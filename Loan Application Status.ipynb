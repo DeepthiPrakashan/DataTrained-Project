{
 "cells": [
  {
   "cell_type": "code",
   "execution_count": 2,
   "id": "18dd3072",
   "metadata": {},
   "outputs": [],
   "source": [
    "import pandas as pd\n",
    "import numpy as np\n",
    "import matplotlib.pyplot as plt\n",
    "import seaborn as sns\n",
    "import warnings\n",
    "warnings.filterwarnings('ignore')"
   ]
  },
  {
   "cell_type": "code",
   "execution_count": 3,
   "id": "a3abe27f",
   "metadata": {},
   "outputs": [
    {
     "data": {
      "text/html": [
       "<div>\n",
       "<style scoped>\n",
       "    .dataframe tbody tr th:only-of-type {\n",
       "        vertical-align: middle;\n",
       "    }\n",
       "\n",
       "    .dataframe tbody tr th {\n",
       "        vertical-align: top;\n",
       "    }\n",
       "\n",
       "    .dataframe thead th {\n",
       "        text-align: right;\n",
       "    }\n",
       "</style>\n",
       "<table border=\"1\" class=\"dataframe\">\n",
       "  <thead>\n",
       "    <tr style=\"text-align: right;\">\n",
       "      <th></th>\n",
       "      <th>Loan_ID</th>\n",
       "      <th>Gender</th>\n",
       "      <th>Married</th>\n",
       "      <th>Dependents</th>\n",
       "      <th>Education</th>\n",
       "      <th>Self_Employed</th>\n",
       "      <th>ApplicantIncome</th>\n",
       "      <th>CoapplicantIncome</th>\n",
       "      <th>LoanAmount</th>\n",
       "      <th>Loan_Amount_Term</th>\n",
       "      <th>Credit_History</th>\n",
       "      <th>Property_Area</th>\n",
       "      <th>Loan_Status</th>\n",
       "    </tr>\n",
       "  </thead>\n",
       "  <tbody>\n",
       "    <tr>\n",
       "      <th>0</th>\n",
       "      <td>LP001002</td>\n",
       "      <td>Male</td>\n",
       "      <td>No</td>\n",
       "      <td>0</td>\n",
       "      <td>Graduate</td>\n",
       "      <td>No</td>\n",
       "      <td>5849</td>\n",
       "      <td>0.0</td>\n",
       "      <td>NaN</td>\n",
       "      <td>360.0</td>\n",
       "      <td>1.0</td>\n",
       "      <td>Urban</td>\n",
       "      <td>Y</td>\n",
       "    </tr>\n",
       "    <tr>\n",
       "      <th>1</th>\n",
       "      <td>LP001003</td>\n",
       "      <td>Male</td>\n",
       "      <td>Yes</td>\n",
       "      <td>1</td>\n",
       "      <td>Graduate</td>\n",
       "      <td>No</td>\n",
       "      <td>4583</td>\n",
       "      <td>1508.0</td>\n",
       "      <td>128.0</td>\n",
       "      <td>360.0</td>\n",
       "      <td>1.0</td>\n",
       "      <td>Rural</td>\n",
       "      <td>N</td>\n",
       "    </tr>\n",
       "    <tr>\n",
       "      <th>2</th>\n",
       "      <td>LP001005</td>\n",
       "      <td>Male</td>\n",
       "      <td>Yes</td>\n",
       "      <td>0</td>\n",
       "      <td>Graduate</td>\n",
       "      <td>Yes</td>\n",
       "      <td>3000</td>\n",
       "      <td>0.0</td>\n",
       "      <td>66.0</td>\n",
       "      <td>360.0</td>\n",
       "      <td>1.0</td>\n",
       "      <td>Urban</td>\n",
       "      <td>Y</td>\n",
       "    </tr>\n",
       "    <tr>\n",
       "      <th>3</th>\n",
       "      <td>LP001006</td>\n",
       "      <td>Male</td>\n",
       "      <td>Yes</td>\n",
       "      <td>0</td>\n",
       "      <td>Not Graduate</td>\n",
       "      <td>No</td>\n",
       "      <td>2583</td>\n",
       "      <td>2358.0</td>\n",
       "      <td>120.0</td>\n",
       "      <td>360.0</td>\n",
       "      <td>1.0</td>\n",
       "      <td>Urban</td>\n",
       "      <td>Y</td>\n",
       "    </tr>\n",
       "    <tr>\n",
       "      <th>4</th>\n",
       "      <td>LP001008</td>\n",
       "      <td>Male</td>\n",
       "      <td>No</td>\n",
       "      <td>0</td>\n",
       "      <td>Graduate</td>\n",
       "      <td>No</td>\n",
       "      <td>6000</td>\n",
       "      <td>0.0</td>\n",
       "      <td>141.0</td>\n",
       "      <td>360.0</td>\n",
       "      <td>1.0</td>\n",
       "      <td>Urban</td>\n",
       "      <td>Y</td>\n",
       "    </tr>\n",
       "  </tbody>\n",
       "</table>\n",
       "</div>"
      ],
      "text/plain": [
       "    Loan_ID Gender Married Dependents     Education Self_Employed  \\\n",
       "0  LP001002   Male      No          0      Graduate            No   \n",
       "1  LP001003   Male     Yes          1      Graduate            No   \n",
       "2  LP001005   Male     Yes          0      Graduate           Yes   \n",
       "3  LP001006   Male     Yes          0  Not Graduate            No   \n",
       "4  LP001008   Male      No          0      Graduate            No   \n",
       "\n",
       "   ApplicantIncome  CoapplicantIncome  LoanAmount  Loan_Amount_Term  \\\n",
       "0             5849                0.0         NaN             360.0   \n",
       "1             4583             1508.0       128.0             360.0   \n",
       "2             3000                0.0        66.0             360.0   \n",
       "3             2583             2358.0       120.0             360.0   \n",
       "4             6000                0.0       141.0             360.0   \n",
       "\n",
       "   Credit_History Property_Area Loan_Status  \n",
       "0             1.0         Urban           Y  \n",
       "1             1.0         Rural           N  \n",
       "2             1.0         Urban           Y  \n",
       "3             1.0         Urban           Y  \n",
       "4             1.0         Urban           Y  "
      ]
     },
     "execution_count": 3,
     "metadata": {},
     "output_type": "execute_result"
    }
   ],
   "source": [
    "Loan= pd.read_csv(r'https://raw.githubusercontent.com/dsrscientist/DSData/master/loan_prediction.csv')\n",
    "Loan.head()"
   ]
  },
  {
   "cell_type": "code",
   "execution_count": 3,
   "id": "ff2817dc",
   "metadata": {},
   "outputs": [
    {
     "data": {
      "text/plain": [
       "(614, 13)"
      ]
     },
     "execution_count": 3,
     "metadata": {},
     "output_type": "execute_result"
    }
   ],
   "source": [
    "Loan.shape"
   ]
  },
  {
   "cell_type": "code",
   "execution_count": 4,
   "id": "4e20be73",
   "metadata": {},
   "outputs": [
    {
     "data": {
      "text/plain": [
       "<AxesSubplot:>"
      ]
     },
     "execution_count": 4,
     "metadata": {},
     "output_type": "execute_result"
    },
    {
     "data": {
      "image/png": "[encoded data removed]",
      "text/plain": [
       "<Figure size 432x288 with 2 Axes>"
      ]
     },
     "metadata": {
      "needs_background": "light"
     },
     "output_type": "display_data"
    }
   ],
   "source": [
    "sns.heatmap(Loan.isnull())"
   ]
  },
  {
   "cell_type": "markdown",
   "id": "d1738cee",
   "metadata": {},
   "source": [
    "We can see null values in few columns."
   ]
  },
  {
   "cell_type": "code",
   "execution_count": 5,
   "id": "0ddca0c5",
   "metadata": {},
   "outputs": [
    {
     "data": {
      "text/plain": [
       "Loan_ID               0\n",
       "Gender               13\n",
       "Married               3\n",
       "Dependents           15\n",
       "Education             0\n",
       "Self_Employed        32\n",
       "ApplicantIncome       0\n",
       "CoapplicantIncome     0\n",
       "LoanAmount           22\n",
       "Loan_Amount_Term     14\n",
       "Credit_History       50\n",
       "Property_Area         0\n",
       "Loan_Status           0\n",
       "dtype: int64"
      ]
     },
     "execution_count": 5,
     "metadata": {},
     "output_type": "execute_result"
    }
   ],
   "source": [
    "Loan.isnull().sum()"
   ]
  },
  {
   "cell_type": "code",
   "execution_count": 6,
   "id": "0489e805",
   "metadata": {},
   "outputs": [
    {
     "name": "stdout",
     "output_type": "stream",
     "text": [
      "<class 'pandas.core.frame.DataFrame'>\n",
      "RangeIndex: 614 entries, 0 to 613\n",
      "Data columns (total 13 columns):\n",
      " #   Column             Non-Null Count  Dtype  \n",
      "---  ------             --------------  -----  \n",
      " 0   Loan_ID            614 non-null    object \n",
      " 1   Gender             601 non-null    object \n",
      " 2   Married            611 non-null    object \n",
      " 3   Dependents         599 non-null    object \n",
      " 4   Education          614 non-null    object \n",
      " 5   Self_Employed      582 non-null    object \n",
      " 6   ApplicantIncome    614 non-null    int64  \n",
      " 7   CoapplicantIncome  614 non-null    float64\n",
      " 8   LoanAmount         592 non-null    float64\n",
      " 9   Loan_Amount_Term   600 non-null    float64\n",
      " 10  Credit_History     564 non-null    float64\n",
      " 11  Property_Area      614 non-null    object \n",
      " 12  Loan_Status        614 non-null    object \n",
      "dtypes: float64(4), int64(1), object(8)\n",
      "memory usage: 62.5+ KB\n"
     ]
    }
   ],
   "source": [
    "Loan.info()"
   ]
  },
  {
   "cell_type": "markdown",
   "id": "16ac115c",
   "metadata": {},
   "source": [
    "columns with object dtype will require to be encoded later on"
   ]
  },
  {
   "cell_type": "code",
   "execution_count": 7,
   "id": "20d15fc3",
   "metadata": {},
   "outputs": [
    {
     "data": {
      "text/plain": [
       "Loan_ID              614\n",
       "Gender                 2\n",
       "Married                2\n",
       "Dependents             4\n",
       "Education              2\n",
       "Self_Employed          2\n",
       "ApplicantIncome      505\n",
       "CoapplicantIncome    287\n",
       "LoanAmount           203\n",
       "Loan_Amount_Term      10\n",
       "Credit_History         2\n",
       "Property_Area          3\n",
       "Loan_Status            2\n",
       "dtype: int64"
      ]
     },
     "execution_count": 7,
     "metadata": {},
     "output_type": "execute_result"
    }
   ],
   "source": [
    "Loan.nunique()"
   ]
  },
  {
   "cell_type": "code",
   "execution_count": 4,
   "id": "181a06ce",
   "metadata": {},
   "outputs": [],
   "source": [
    "Loan.drop('Loan_ID',axis=1,inplace= True)"
   ]
  },
  {
   "cell_type": "markdown",
   "id": "fb48dc92",
   "metadata": {},
   "source": [
    "Load_Id is a unique identifier which is not required for our analysis"
   ]
  },
  {
   "cell_type": "code",
   "execution_count": 5,
   "id": "6707efe3",
   "metadata": {},
   "outputs": [
    {
     "data": {
      "text/html": [
       "<div>\n",
       "<style scoped>\n",
       "    .dataframe tbody tr th:only-of-type {\n",
       "        vertical-align: middle;\n",
       "    }\n",
       "\n",
       "    .dataframe tbody tr th {\n",
       "        vertical-align: top;\n",
       "    }\n",
       "\n",
       "    .dataframe thead th {\n",
       "        text-align: right;\n",
       "    }\n",
       "</style>\n",
       "<table border=\"1\" class=\"dataframe\">\n",
       "  <thead>\n",
       "    <tr style=\"text-align: right;\">\n",
       "      <th></th>\n",
       "      <th>ApplicantIncome</th>\n",
       "      <th>CoapplicantIncome</th>\n",
       "      <th>LoanAmount</th>\n",
       "      <th>Loan_Amount_Term</th>\n",
       "      <th>Credit_History</th>\n",
       "    </tr>\n",
       "  </thead>\n",
       "  <tbody>\n",
       "    <tr>\n",
       "      <th>count</th>\n",
       "      <td>614.000000</td>\n",
       "      <td>614.000000</td>\n",
       "      <td>592.000000</td>\n",
       "      <td>600.00000</td>\n",
       "      <td>564.000000</td>\n",
       "    </tr>\n",
       "    <tr>\n",
       "      <th>mean</th>\n",
       "      <td>5403.459283</td>\n",
       "      <td>1621.245798</td>\n",
       "      <td>146.412162</td>\n",
       "      <td>342.00000</td>\n",
       "      <td>0.842199</td>\n",
       "    </tr>\n",
       "    <tr>\n",
       "      <th>std</th>\n",
       "      <td>6109.041673</td>\n",
       "      <td>2926.248369</td>\n",
       "      <td>85.587325</td>\n",
       "      <td>65.12041</td>\n",
       "      <td>0.364878</td>\n",
       "    </tr>\n",
       "    <tr>\n",
       "      <th>min</th>\n",
       "      <td>150.000000</td>\n",
       "      <td>0.000000</td>\n",
       "      <td>9.000000</td>\n",
       "      <td>12.00000</td>\n",
       "      <td>0.000000</td>\n",
       "    </tr>\n",
       "    <tr>\n",
       "      <th>25%</th>\n",
       "      <td>2877.500000</td>\n",
       "      <td>0.000000</td>\n",
       "      <td>100.000000</td>\n",
       "      <td>360.00000</td>\n",
       "      <td>1.000000</td>\n",
       "    </tr>\n",
       "    <tr>\n",
       "      <th>50%</th>\n",
       "      <td>3812.500000</td>\n",
       "      <td>1188.500000</td>\n",
       "      <td>128.000000</td>\n",
       "      <td>360.00000</td>\n",
       "      <td>1.000000</td>\n",
       "    </tr>\n",
       "    <tr>\n",
       "      <th>75%</th>\n",
       "      <td>5795.000000</td>\n",
       "      <td>2297.250000</td>\n",
       "      <td>168.000000</td>\n",
       "      <td>360.00000</td>\n",
       "      <td>1.000000</td>\n",
       "    </tr>\n",
       "    <tr>\n",
       "      <th>max</th>\n",
       "      <td>81000.000000</td>\n",
       "      <td>41667.000000</td>\n",
       "      <td>700.000000</td>\n",
       "      <td>480.00000</td>\n",
       "      <td>1.000000</td>\n",
       "    </tr>\n",
       "  </tbody>\n",
       "</table>\n",
       "</div>"
      ],
      "text/plain": [
       "       ApplicantIncome  CoapplicantIncome  LoanAmount  Loan_Amount_Term  \\\n",
       "count       614.000000         614.000000  592.000000         600.00000   \n",
       "mean       5403.459283        1621.245798  146.412162         342.00000   \n",
       "std        6109.041673        2926.248369   85.587325          65.12041   \n",
       "min         150.000000           0.000000    9.000000          12.00000   \n",
       "25%        2877.500000           0.000000  100.000000         360.00000   \n",
       "50%        3812.500000        1188.500000  128.000000         360.00000   \n",
       "75%        5795.000000        2297.250000  168.000000         360.00000   \n",
       "max       81000.000000       41667.000000  700.000000         480.00000   \n",
       "\n",
       "       Credit_History  \n",
       "count      564.000000  \n",
       "mean         0.842199  \n",
       "std          0.364878  \n",
       "min          0.000000  \n",
       "25%          1.000000  \n",
       "50%          1.000000  \n",
       "75%          1.000000  \n",
       "max          1.000000  "
      ]
     },
     "execution_count": 5,
     "metadata": {},
     "output_type": "execute_result"
    }
   ],
   "source": [
    "Loan.describe()"
   ]
  },
  {
   "cell_type": "markdown",
   "id": "94dde939",
   "metadata": {},
   "source": [
    "### Handling Missing Values"
   ]
  },
  {
   "cell_type": "code",
   "execution_count": 9,
   "id": "256e8730",
   "metadata": {},
   "outputs": [
    {
     "data": {
      "text/plain": [
       "0    Male\n",
       "Name: Gender, dtype: object"
      ]
     },
     "execution_count": 9,
     "metadata": {},
     "output_type": "execute_result"
    }
   ],
   "source": [
    "Loan.Gender.mode()"
   ]
  },
  {
   "cell_type": "code",
   "execution_count": 10,
   "id": "4d5ea7fa",
   "metadata": {},
   "outputs": [
    {
     "data": {
      "text/plain": [
       "0    Yes\n",
       "Name: Married, dtype: object"
      ]
     },
     "execution_count": 10,
     "metadata": {},
     "output_type": "execute_result"
    }
   ],
   "source": [
    "Loan.Married.mode()"
   ]
  },
  {
   "cell_type": "code",
   "execution_count": 11,
   "id": "657fa031",
   "metadata": {},
   "outputs": [
    {
     "data": {
      "text/plain": [
       "0    0\n",
       "Name: Dependents, dtype: object"
      ]
     },
     "execution_count": 11,
     "metadata": {},
     "output_type": "execute_result"
    }
   ],
   "source": [
    "Loan.Dependents.mode()"
   ]
  },
  {
   "cell_type": "code",
   "execution_count": 12,
   "id": "9dbbe6c9",
   "metadata": {},
   "outputs": [
    {
     "data": {
      "text/plain": [
       "0    No\n",
       "Name: Self_Employed, dtype: object"
      ]
     },
     "execution_count": 12,
     "metadata": {},
     "output_type": "execute_result"
    }
   ],
   "source": [
    "Loan.Self_Employed.mode()"
   ]
  },
  {
   "cell_type": "code",
   "execution_count": 13,
   "id": "46664f8c",
   "metadata": {},
   "outputs": [
    {
     "data": {
      "text/plain": [
       "0    360.0\n",
       "Name: Loan_Amount_Term, dtype: float64"
      ]
     },
     "execution_count": 13,
     "metadata": {},
     "output_type": "execute_result"
    }
   ],
   "source": [
    "Loan.Loan_Amount_Term.mode()"
   ]
  },
  {
   "cell_type": "code",
   "execution_count": 14,
   "id": "3a6e7821",
   "metadata": {},
   "outputs": [
    {
     "data": {
      "text/plain": [
       "0    1.0\n",
       "Name: Credit_History, dtype: float64"
      ]
     },
     "execution_count": 14,
     "metadata": {},
     "output_type": "execute_result"
    }
   ],
   "source": [
    "Loan.Credit_History.mode()"
   ]
  },
  {
   "cell_type": "code",
   "execution_count": 13,
   "id": "5799c3ad",
   "metadata": {},
   "outputs": [
    {
     "data": {
      "text/plain": [
       "129.0"
      ]
     },
     "execution_count": 13,
     "metadata": {},
     "output_type": "execute_result"
    }
   ],
   "source": [
    "Loan.LoanAmount.median()"
   ]
  },
  {
   "cell_type": "code",
   "execution_count": 11,
   "id": "dc188bfa",
   "metadata": {},
   "outputs": [],
   "source": [
    "#Filling the missing values in Gender by Mode\n",
    "Loan['Gender']=Loan['Gender'].fillna(Loan['Gender'].mode()[0])\n",
    "\n",
    "#Filling the missing values in Married  by mode\n",
    "Loan['Married']=Loan['Married'].fillna(Loan['Married'].mode()[0])\n",
    "\n",
    "#Filling the missing values in Dependents by Mode\n",
    "Loan['Dependents']=Loan['Dependents'].fillna(Loan['Dependents'].mode()[0])\n",
    "\n",
    "#Filling the missing values in Self_Employed by Mode\n",
    "Loan['Self_Employed']=Loan['Self_Employed'].fillna(Loan['Self_Employed'].mode()[0])\n",
    "\n",
    "\n",
    "\n",
    "#Filling the missing values in Credit_History by Mode\n",
    "Loan['Credit_History']=Loan['Credit_History'].fillna(Loan['Credit_History'].mode()[0])\n",
    "\n",
    "#Filling the missing values in LoanAmount by median\n",
    "Loan['LoanAmount']=Loan['LoanAmount'].fillna(Loan['LoanAmount'].median())\n",
    "\n"
   ]
  },
  {
   "cell_type": "code",
   "execution_count": 8,
   "id": "fc5941dc",
   "metadata": {},
   "outputs": [],
   "source": [
    "#Filling the missing values in Loan_Amount_Term by Mode\n",
    "Loan['Loan_Amount_Term']=Loan['Loan_Amount_Term'].fillna(Loan['Loan_Amount_Term'].mode()[0])"
   ]
  },
  {
   "cell_type": "code",
   "execution_count": 12,
   "id": "4311f2f5",
   "metadata": {},
   "outputs": [
    {
     "data": {
      "text/plain": [
       "Gender               0\n",
       "Married              0\n",
       "Dependents           0\n",
       "Education            0\n",
       "Self_Employed        0\n",
       "ApplicantIncome      0\n",
       "CoapplicantIncome    0\n",
       "LoanAmount           0\n",
       "Loan_Amount_Term     0\n",
       "Credit_History       0\n",
       "Property_Area        0\n",
       "Loan_Status          0\n",
       "dtype: int64"
      ]
     },
     "execution_count": 12,
     "metadata": {},
     "output_type": "execute_result"
    }
   ],
   "source": [
    "Loan.isnull().sum()"
   ]
  },
  {
   "cell_type": "markdown",
   "id": "9720a16f",
   "metadata": {},
   "source": [
    "## Data Visualization"
   ]
  },
  {
   "cell_type": "markdown",
   "id": "f2dea2c1",
   "metadata": {},
   "source": [
    "### Number of students who received loan"
   ]
  },
  {
   "cell_type": "code",
   "execution_count": 20,
   "id": "6ee1f4ae",
   "metadata": {},
   "outputs": [
    {
     "data": {
      "text/plain": [
       "<AxesSubplot:xlabel='Loan_Status', ylabel='count'>"
      ]
     },
     "execution_count": 20,
     "metadata": {},
     "output_type": "execute_result"
    },
    {
     "data": {
      "image/png": "[encoded data removed]",
      "text/plain": [
       "<Figure size 432x288 with 1 Axes>"
      ]
     },
     "metadata": {
      "needs_background": "light"
     },
     "output_type": "display_data"
    }
   ],
   "source": [
    "sns.countplot(Loan['Loan_Status'])"
   ]
  },
  {
   "cell_type": "markdown",
   "id": "c9ba7abf",
   "metadata": {},
   "source": [
    "Y indicates the students who have received loan and N indicates those who haven't. We have to analyse further to see which features are correlated those receiving loan and those who aren't"
   ]
  },
  {
   "cell_type": "markdown",
   "id": "f6097562",
   "metadata": {},
   "source": [
    "### Distribution of Data"
   ]
  },
  {
   "cell_type": "code",
   "execution_count": 11,
   "id": "810d042c",
   "metadata": {},
   "outputs": [
    {
     "data": {
      "text/plain": [
       "<AxesSubplot:xlabel='ApplicantIncome', ylabel='Density'>"
      ]
     },
     "execution_count": 11,
     "metadata": {},
     "output_type": "execute_result"
    },
    {
     "data": {
      "image/png": "[encoded data removed]",
      "text/plain": [
       "<Figure size 432x288 with 1 Axes>"
      ]
     },
     "metadata": {
      "needs_background": "light"
     },
     "output_type": "display_data"
    }
   ],
   "source": [
    "sns.distplot(Loan['ApplicantIncome'])"
   ]
  },
  {
   "cell_type": "code",
   "execution_count": 13,
   "id": "a6d3b91b",
   "metadata": {},
   "outputs": [
    {
     "data": {
      "text/plain": [
       "<AxesSubplot:xlabel='CoapplicantIncome', ylabel='Density'>"
      ]
     },
     "execution_count": 13,
     "metadata": {},
     "output_type": "execute_result"
    },
    {
     "data": {
      "image/png": "[encoded data removed]",
      "text/plain": [
       "<Figure size 432x288 with 1 Axes>"
      ]
     },
     "metadata": {
      "needs_background": "light"
     },
     "output_type": "display_data"
    }
   ],
   "source": [
    "sns.distplot(Loan['CoapplicantIncome'])"
   ]
  },
  {
   "cell_type": "code",
   "execution_count": 18,
   "id": "eb01fc9b",
   "metadata": {},
   "outputs": [
    {
     "data": {
      "text/plain": [
       "<AxesSubplot:xlabel='LoanAmount', ylabel='Density'>"
      ]
     },
     "execution_count": 18,
     "metadata": {},
     "output_type": "execute_result"
    },
    {
     "data": {
      "image/png": "[encoded data removed]",
      "text/plain": [
       "<Figure size 432x288 with 1 Axes>"
      ]
     },
     "metadata": {
      "needs_background": "light"
     },
     "output_type": "display_data"
    }
   ],
   "source": [
    "sns.distplot(Loan['LoanAmount'])"
   ]
  },
  {
   "cell_type": "markdown",
   "id": "bdcf6dcf",
   "metadata": {},
   "source": [
    "- We see that all the data that contained continous values are skewed are will required to be normalised \n",
    "- As observed in the figure, all the graphs are right skewed"
   ]
  },
  {
   "cell_type": "code",
   "execution_count": 30,
   "id": "a947ff2f",
   "metadata": {},
   "outputs": [
    {
     "name": "stdout",
     "output_type": "stream",
     "text": [
      "Male      489\n",
      "Female    112\n",
      "Name: Gender, dtype: int64\n"
     ]
    },
    {
     "data": {
      "image/png": "[encoded data removed]",
      "text/plain": [
       "<Figure size 432x288 with 1 Axes>"
      ]
     },
     "metadata": {
      "needs_background": "light"
     },
     "output_type": "display_data"
    }
   ],
   "source": [
    "sns.countplot(Loan['Gender'])\n",
    "print(Loan['Gender'].value_counts())"
   ]
  },
  {
   "cell_type": "markdown",
   "id": "511c9c6e",
   "metadata": {},
   "source": [
    "- There are more male applicants than female"
   ]
  },
  {
   "cell_type": "code",
   "execution_count": 31,
   "id": "898f6c97",
   "metadata": {},
   "outputs": [
    {
     "name": "stdout",
     "output_type": "stream",
     "text": [
      "Yes    398\n",
      "No     213\n",
      "Name: Married, dtype: int64\n"
     ]
    },
    {
     "data": {
      "image/png": "[encoded data removed]",
      "text/plain": [
       "<Figure size 432x288 with 1 Axes>"
      ]
     },
     "metadata": {
      "needs_background": "light"
     },
     "output_type": "display_data"
    }
   ],
   "source": [
    "sns.countplot(Loan['Married'])\n",
    "print(Loan['Married'].value_counts())"
   ]
  },
  {
   "cell_type": "markdown",
   "id": "e7a73282",
   "metadata": {},
   "source": [
    "- Majority of the applicants are married"
   ]
  },
  {
   "cell_type": "code",
   "execution_count": 24,
   "id": "5097c9a8",
   "metadata": {},
   "outputs": [
    {
     "name": "stdout",
     "output_type": "stream",
     "text": [
      "Graduate        480\n",
      "Not Graduate    134\n",
      "Name: Education, dtype: int64\n"
     ]
    },
    {
     "data": {
      "image/png": "[encoded data removed]",
      "text/plain": [
       "<Figure size 432x288 with 1 Axes>"
      ]
     },
     "metadata": {
      "needs_background": "light"
     },
     "output_type": "display_data"
    }
   ],
   "source": [
    "sns.countplot(Loan['Education'])\n",
    "print(Loan['Education'].value_counts())"
   ]
  },
  {
   "cell_type": "markdown",
   "id": "38cf5e74",
   "metadata": {},
   "source": [
    "- Most of the applicants are graduated"
   ]
  },
  {
   "cell_type": "code",
   "execution_count": 32,
   "id": "fe54c17a",
   "metadata": {},
   "outputs": [
    {
     "name": "stdout",
     "output_type": "stream",
     "text": [
      "0     345\n",
      "1     102\n",
      "2     101\n",
      "3+     51\n",
      "Name: Dependents, dtype: int64\n"
     ]
    },
    {
     "data": {
      "image/png": "[encoded data removed]",
      "text/plain": [
       "<Figure size 432x288 with 1 Axes>"
      ]
     },
     "metadata": {
      "needs_background": "light"
     },
     "output_type": "display_data"
    }
   ],
   "source": [
    "sns.countplot(Loan['Dependents'])\n",
    "print(Loan['Dependents'].value_counts())"
   ]
  },
  {
   "cell_type": "markdown",
   "id": "2e391300",
   "metadata": {},
   "source": [
    "- Most of the applicants have 0 dependents.\n",
    "- +3 indicates more than three dependents"
   ]
  },
  {
   "cell_type": "code",
   "execution_count": 25,
   "id": "e67fbec8",
   "metadata": {},
   "outputs": [
    {
     "name": "stdout",
     "output_type": "stream",
     "text": [
      "No     500\n",
      "Yes     82\n",
      "Name: Self_Employed, dtype: int64\n"
     ]
    },
    {
     "data": {
      "image/png": "[encoded data removed]",
      "text/plain": [
       "<Figure size 432x288 with 1 Axes>"
      ]
     },
     "metadata": {
      "needs_background": "light"
     },
     "output_type": "display_data"
    }
   ],
   "source": [
    "sns.countplot(Loan['Self_Employed'])\n",
    "print(Loan['Self_Employed'].value_counts())"
   ]
  },
  {
   "cell_type": "markdown",
   "id": "6f64e216",
   "metadata": {},
   "source": [
    "- Majority of the applicants are self employed"
   ]
  },
  {
   "cell_type": "code",
   "execution_count": 54,
   "id": "45601f3e",
   "metadata": {},
   "outputs": [
    {
     "name": "stdout",
     "output_type": "stream",
     "text": [
      "360.0    526\n",
      "180.0     44\n",
      "480.0     15\n",
      "300.0     13\n",
      "240.0      4\n",
      "84.0       4\n",
      "120.0      3\n",
      "60.0       2\n",
      "36.0       2\n",
      "12.0       1\n",
      "Name: Loan_Amount_Term, dtype: int64\n"
     ]
    },
    {
     "data": {
      "image/png": "[encoded data removed]",
      "text/plain": [
       "<Figure size 432x288 with 1 Axes>"
      ]
     },
     "metadata": {
      "needs_background": "light"
     },
     "output_type": "display_data"
    }
   ],
   "source": [
    "sns.countplot(Loan['Loan_Amount_Term'])\n",
    "print(Loan['Loan_Amount_Term'].value_counts())"
   ]
  },
  {
   "cell_type": "markdown",
   "id": "c4001bd1",
   "metadata": {},
   "source": [
    "- It looks like most of the applicants prefer to have a loan amount term to be 360"
   ]
  },
  {
   "cell_type": "code",
   "execution_count": 28,
   "id": "c4ba5d49",
   "metadata": {},
   "outputs": [
    {
     "name": "stdout",
     "output_type": "stream",
     "text": [
      "1.0    475\n",
      "0.0     89\n",
      "Name: Credit_History, dtype: int64\n"
     ]
    },
    {
     "data": {
      "image/png": "[encoded data removed]",
      "text/plain": [
       "<Figure size 432x288 with 1 Axes>"
      ]
     },
     "metadata": {
      "needs_background": "light"
     },
     "output_type": "display_data"
    }
   ],
   "source": [
    "sns.countplot(Loan['Credit_History'])\n",
    "print(Loan['Credit_History'].value_counts())"
   ]
  },
  {
   "cell_type": "markdown",
   "id": "b79a9ff2",
   "metadata": {},
   "source": [
    "- Majority of the applicats have a good credit history"
   ]
  },
  {
   "cell_type": "code",
   "execution_count": 29,
   "id": "948e81ec",
   "metadata": {},
   "outputs": [
    {
     "name": "stdout",
     "output_type": "stream",
     "text": [
      "Semiurban    233\n",
      "Urban        202\n",
      "Rural        179\n",
      "Name: Property_Area, dtype: int64\n"
     ]
    },
    {
     "data": {
      "image/png": "[encoded data removed]",
      "text/plain": [
       "<Figure size 432x288 with 1 Axes>"
      ]
     },
     "metadata": {
      "needs_background": "light"
     },
     "output_type": "display_data"
    }
   ],
   "source": [
    "sns.countplot(Loan['Property_Area'])\n",
    "print(Loan['Property_Area'].value_counts())"
   ]
  },
  {
   "cell_type": "markdown",
   "id": "7de5eabb",
   "metadata": {},
   "source": [
    "- Most of the applicants are from semi urban region"
   ]
  },
  {
   "cell_type": "code",
   "execution_count": 127,
   "id": "1bc7b916",
   "metadata": {},
   "outputs": [
    {
     "name": "stdout",
     "output_type": "stream",
     "text": [
      "347\n"
     ]
    },
    {
     "data": {
      "image/png": "[encoded data removed]",
      "text/plain": [
       "<Figure size 576x360 with 1 Axes>"
      ]
     },
     "metadata": {
      "needs_background": "light"
     },
     "output_type": "display_data"
    }
   ],
   "source": [
    "plt.figure(figsize=(8,5))\n",
    "ax=sns.countplot(data=Loan, x=\"Gender\", hue='Loan_Status')\n",
    "plt.title('Gender vs Loan Status')\n",
    "                 \n",
    "for p in ax.patches:\n",
    "    ax.annotate('{:.1f}'.format(p.get_height()), (p.get_x()+0.25, p.get_height()+0.01))\n"
   ]
  },
  {
   "cell_type": "markdown",
   "id": "1352d544",
   "metadata": {},
   "source": [
    "- There is not much difference in people who have received loan based on gender if we analyse the ratio between the two"
   ]
  },
  {
   "cell_type": "code",
   "execution_count": 54,
   "id": "18a8d3b6",
   "metadata": {},
   "outputs": [
    {
     "data": {
      "image/png": "[encoded data removed]",
      "text/plain": [
       "<Figure size 576x360 with 1 Axes>"
      ]
     },
     "metadata": {
      "needs_background": "light"
     },
     "output_type": "display_data"
    }
   ],
   "source": [
    "plt.figure(figsize=(8,5))\n",
    "ax=sns.countplot(data=Loan, x=\"Married\", hue='Loan_Status')\n",
    "for p in ax.patches:\n",
    "    ax.annotate('{:.1f}'.format(p.get_height()), (p.get_x()+0.25, p.get_height()+0.01))"
   ]
  },
  {
   "cell_type": "markdown",
   "id": "f53d4fb9",
   "metadata": {},
   "source": [
    "- Those who are married have higher chances of getting a loan"
   ]
  },
  {
   "cell_type": "code",
   "execution_count": 53,
   "id": "b3a6c278",
   "metadata": {},
   "outputs": [
    {
     "data": {
      "image/png": "[encoded data removed]",
      "text/plain": [
       "<Figure size 576x360 with 1 Axes>"
      ]
     },
     "metadata": {
      "needs_background": "light"
     },
     "output_type": "display_data"
    }
   ],
   "source": [
    "plt.figure(figsize=(8,5))\n",
    "ax= sns.countplot(data=Loan, x=\"Dependents\", hue='Loan_Status')\n",
    "for p in ax.patches:\n",
    "    ax.annotate('{:.1f}'.format(p.get_height()), (p.get_x()+0.25, p.get_height()+0.01))"
   ]
  },
  {
   "cell_type": "markdown",
   "id": "7fe87d36",
   "metadata": {},
   "source": [
    "- No evident correlation in terms of increasing number of dependents can be established"
   ]
  },
  {
   "cell_type": "code",
   "execution_count": 38,
   "id": "7ceb5346",
   "metadata": {},
   "outputs": [
    {
     "data": {
      "text/plain": [
       "Index(['Gender', 'Married', 'Dependents', 'Education', 'Self_Employed',\n",
       "       'ApplicantIncome', 'CoapplicantIncome', 'LoanAmount',\n",
       "       'Loan_Amount_Term', 'Credit_History', 'Property_Area', 'Loan_Status'],\n",
       "      dtype='object')"
      ]
     },
     "execution_count": 38,
     "metadata": {},
     "output_type": "execute_result"
    }
   ],
   "source": [
    "Loan.columns"
   ]
  },
  {
   "cell_type": "code",
   "execution_count": 52,
   "id": "932d1bdf",
   "metadata": {},
   "outputs": [
    {
     "data": {
      "image/png": "[encoded data removed]",
      "text/plain": [
       "<Figure size 576x360 with 1 Axes>"
      ]
     },
     "metadata": {
      "needs_background": "light"
     },
     "output_type": "display_data"
    }
   ],
   "source": [
    "plt.figure(figsize=(8,5))\n",
    "ax= sns.countplot(data=Loan, x=\"Education\", hue='Loan_Status')\n",
    "for p in ax.patches:\n",
    "    ax.annotate('{:.1f}'.format(p.get_height()), (p.get_x()+0.25, p.get_height()+0.01))"
   ]
  },
  {
   "cell_type": "markdown",
   "id": "4388b002",
   "metadata": {},
   "source": [
    "- People who are Graduated are more likely to get a loan"
   ]
  },
  {
   "cell_type": "code",
   "execution_count": 51,
   "id": "9429c25b",
   "metadata": {},
   "outputs": [
    {
     "data": {
      "image/png": "[encoded data removed]",
      "text/plain": [
       "<Figure size 576x360 with 1 Axes>"
      ]
     },
     "metadata": {
      "needs_background": "light"
     },
     "output_type": "display_data"
    }
   ],
   "source": [
    "plt.figure(figsize=(8,5))\n",
    "ax= sns.countplot(data=Loan, x=\"Self_Employed\", hue='Loan_Status')\n",
    "for p in ax.patches:\n",
    "    ax.annotate('{:.1f}'.format(p.get_height()), (p.get_x()+0.25, p.get_height()+0.01))"
   ]
  },
  {
   "cell_type": "markdown",
   "id": "21708c93",
   "metadata": {},
   "source": [
    "- People who are not self employed have applied for the loan ,however there seems to be no correlation with loan status"
   ]
  },
  {
   "cell_type": "code",
   "execution_count": 50,
   "id": "c617c752",
   "metadata": {},
   "outputs": [
    {
     "data": {
      "image/png": "[encoded data removed]",
      "text/plain": [
       "<Figure size 576x360 with 1 Axes>"
      ]
     },
     "metadata": {
      "needs_background": "light"
     },
     "output_type": "display_data"
    }
   ],
   "source": [
    "plt.figure(figsize=(8,5))\n",
    "ax= sns.countplot(data=Loan, x=\"Credit_History\", hue='Loan_Status')\n",
    "for p in ax.patches:\n",
    "    ax.annotate('{:.1f}'.format(p.get_height()), (p.get_x()+0.25, p.get_height()+0.01))"
   ]
  },
  {
   "cell_type": "markdown",
   "id": "957be1c4",
   "metadata": {},
   "source": [
    "- people who do not have a good credit history clearly has a very low chance of getting a loan"
   ]
  },
  {
   "cell_type": "code",
   "execution_count": 49,
   "id": "8ce8f51c",
   "metadata": {},
   "outputs": [
    {
     "data": {
      "image/png": "[encoded data removed]",
      "text/plain": [
       "<Figure size 648x360 with 1 Axes>"
      ]
     },
     "metadata": {
      "needs_background": "light"
     },
     "output_type": "display_data"
    }
   ],
   "source": [
    "plt.figure(figsize=(9,5))\n",
    "ax= sns.countplot(data=Loan, x=\"Property_Area\", hue='Loan_Status')\n",
    "for p in ax.patches:\n",
    "    ax.annotate('{:.1f}'.format(p.get_height()), (p.get_x()+0.25, p.get_height()+0.01))"
   ]
  },
  {
   "cell_type": "markdown",
   "id": "9acee935",
   "metadata": {},
   "source": [
    "- People living in semi-urban region has better chance of getting a loan followed by urban people and then the people living in rural area. "
   ]
  },
  {
   "cell_type": "code",
   "execution_count": 66,
   "id": "8253c0d8",
   "metadata": {},
   "outputs": [
    {
     "data": {
      "text/plain": [
       "<AxesSubplot:xlabel='Loan_Status', ylabel='ApplicantIncome'>"
      ]
     },
     "execution_count": 66,
     "metadata": {},
     "output_type": "execute_result"
    },
    {
     "data": {
      "image/png": "[encoded data removed]",
      "text/plain": [
       "<Figure size 432x288 with 1 Axes>"
      ]
     },
     "metadata": {
      "needs_background": "light"
     },
     "output_type": "display_data"
    }
   ],
   "source": [
    "sns.swarmplot(data=Loan,x='Loan_Status',y='ApplicantIncome')"
   ]
  },
  {
   "cell_type": "markdown",
   "id": "a756a268",
   "metadata": {},
   "source": [
    "- The applicants were mostly people with low applicant income based on the distribution we saw earlier. It does seem likeit is less likely to get a loan if the applicant income is high"
   ]
  },
  {
   "cell_type": "code",
   "execution_count": 67,
   "id": "347fa4d0",
   "metadata": {},
   "outputs": [
    {
     "data": {
      "text/plain": [
       "<AxesSubplot:xlabel='Loan_Status', ylabel='CoapplicantIncome'>"
      ]
     },
     "execution_count": 67,
     "metadata": {},
     "output_type": "execute_result"
    },
    {
     "data": {
      "image/png": "[encoded data removed]",
      "text/plain": [
       "<Figure size 432x288 with 1 Axes>"
      ]
     },
     "metadata": {
      "needs_background": "light"
     },
     "output_type": "display_data"
    }
   ],
   "source": [
    "sns.swarmplot(data=Loan,x='Loan_Status',y='CoapplicantIncome')"
   ]
  },
  {
   "cell_type": "markdown",
   "id": "a4c028d5",
   "metadata": {},
   "source": [
    "- Again there seems to be less probability of getting a loan if the coapplicant income is high"
   ]
  },
  {
   "cell_type": "code",
   "execution_count": 68,
   "id": "50289cdb",
   "metadata": {},
   "outputs": [
    {
     "data": {
      "text/plain": [
       "<AxesSubplot:xlabel='Loan_Status', ylabel='LoanAmount'>"
      ]
     },
     "execution_count": 68,
     "metadata": {},
     "output_type": "execute_result"
    },
    {
     "data": {
      "image/png": "[encoded data removed]",
      "text/plain": [
       "<Figure size 432x288 with 1 Axes>"
      ]
     },
     "metadata": {
      "needs_background": "light"
     },
     "output_type": "display_data"
    }
   ],
   "source": [
    "sns.swarmplot(data=Loan,x='Loan_Status',y='LoanAmount')"
   ]
  },
  {
   "cell_type": "markdown",
   "id": "2173b405",
   "metadata": {},
   "source": [
    "## Encoding"
   ]
  },
  {
   "cell_type": "code",
   "execution_count": 14,
   "id": "104a8a2e",
   "metadata": {},
   "outputs": [],
   "source": [
    "from sklearn.preprocessing import LabelEncoder\n",
    "le =LabelEncoder()\n",
    "Loan['Loan_Status']=le.fit_transform(Loan['Loan_Status'])"
   ]
  },
  {
   "cell_type": "code",
   "execution_count": 15,
   "id": "68a88efa",
   "metadata": {},
   "outputs": [
    {
     "data": {
      "text/html": [
       "<div>\n",
       "<style scoped>\n",
       "    .dataframe tbody tr th:only-of-type {\n",
       "        vertical-align: middle;\n",
       "    }\n",
       "\n",
       "    .dataframe tbody tr th {\n",
       "        vertical-align: top;\n",
       "    }\n",
       "\n",
       "    .dataframe thead th {\n",
       "        text-align: right;\n",
       "    }\n",
       "</style>\n",
       "<table border=\"1\" class=\"dataframe\">\n",
       "  <thead>\n",
       "    <tr style=\"text-align: right;\">\n",
       "      <th></th>\n",
       "      <th>Gender</th>\n",
       "      <th>Married</th>\n",
       "      <th>Dependents</th>\n",
       "      <th>Education</th>\n",
       "      <th>Self_Employed</th>\n",
       "      <th>ApplicantIncome</th>\n",
       "      <th>CoapplicantIncome</th>\n",
       "      <th>LoanAmount</th>\n",
       "      <th>Loan_Amount_Term</th>\n",
       "      <th>Credit_History</th>\n",
       "      <th>Property_Area</th>\n",
       "      <th>Loan_Status</th>\n",
       "    </tr>\n",
       "  </thead>\n",
       "  <tbody>\n",
       "    <tr>\n",
       "      <th>0</th>\n",
       "      <td>Male</td>\n",
       "      <td>No</td>\n",
       "      <td>0</td>\n",
       "      <td>Graduate</td>\n",
       "      <td>No</td>\n",
       "      <td>5849</td>\n",
       "      <td>0.0</td>\n",
       "      <td>146.412162</td>\n",
       "      <td>360.0</td>\n",
       "      <td>1.0</td>\n",
       "      <td>Urban</td>\n",
       "      <td>1</td>\n",
       "    </tr>\n",
       "    <tr>\n",
       "      <th>1</th>\n",
       "      <td>Male</td>\n",
       "      <td>Yes</td>\n",
       "      <td>1</td>\n",
       "      <td>Graduate</td>\n",
       "      <td>No</td>\n",
       "      <td>4583</td>\n",
       "      <td>1508.0</td>\n",
       "      <td>128.000000</td>\n",
       "      <td>360.0</td>\n",
       "      <td>1.0</td>\n",
       "      <td>Rural</td>\n",
       "      <td>0</td>\n",
       "    </tr>\n",
       "    <tr>\n",
       "      <th>2</th>\n",
       "      <td>Male</td>\n",
       "      <td>Yes</td>\n",
       "      <td>0</td>\n",
       "      <td>Graduate</td>\n",
       "      <td>Yes</td>\n",
       "      <td>3000</td>\n",
       "      <td>0.0</td>\n",
       "      <td>66.000000</td>\n",
       "      <td>360.0</td>\n",
       "      <td>1.0</td>\n",
       "      <td>Urban</td>\n",
       "      <td>1</td>\n",
       "    </tr>\n",
       "    <tr>\n",
       "      <th>3</th>\n",
       "      <td>Male</td>\n",
       "      <td>Yes</td>\n",
       "      <td>0</td>\n",
       "      <td>Not Graduate</td>\n",
       "      <td>No</td>\n",
       "      <td>2583</td>\n",
       "      <td>2358.0</td>\n",
       "      <td>120.000000</td>\n",
       "      <td>360.0</td>\n",
       "      <td>1.0</td>\n",
       "      <td>Urban</td>\n",
       "      <td>1</td>\n",
       "    </tr>\n",
       "    <tr>\n",
       "      <th>4</th>\n",
       "      <td>Male</td>\n",
       "      <td>No</td>\n",
       "      <td>0</td>\n",
       "      <td>Graduate</td>\n",
       "      <td>No</td>\n",
       "      <td>6000</td>\n",
       "      <td>0.0</td>\n",
       "      <td>141.000000</td>\n",
       "      <td>360.0</td>\n",
       "      <td>1.0</td>\n",
       "      <td>Urban</td>\n",
       "      <td>1</td>\n",
       "    </tr>\n",
       "    <tr>\n",
       "      <th>...</th>\n",
       "      <td>...</td>\n",
       "      <td>...</td>\n",
       "      <td>...</td>\n",
       "      <td>...</td>\n",
       "      <td>...</td>\n",
       "      <td>...</td>\n",
       "      <td>...</td>\n",
       "      <td>...</td>\n",
       "      <td>...</td>\n",
       "      <td>...</td>\n",
       "      <td>...</td>\n",
       "      <td>...</td>\n",
       "    </tr>\n",
       "    <tr>\n",
       "      <th>609</th>\n",
       "      <td>Female</td>\n",
       "      <td>No</td>\n",
       "      <td>0</td>\n",
       "      <td>Graduate</td>\n",
       "      <td>No</td>\n",
       "      <td>2900</td>\n",
       "      <td>0.0</td>\n",
       "      <td>71.000000</td>\n",
       "      <td>360.0</td>\n",
       "      <td>1.0</td>\n",
       "      <td>Rural</td>\n",
       "      <td>1</td>\n",
       "    </tr>\n",
       "    <tr>\n",
       "      <th>610</th>\n",
       "      <td>Male</td>\n",
       "      <td>Yes</td>\n",
       "      <td>3+</td>\n",
       "      <td>Graduate</td>\n",
       "      <td>No</td>\n",
       "      <td>4106</td>\n",
       "      <td>0.0</td>\n",
       "      <td>40.000000</td>\n",
       "      <td>180.0</td>\n",
       "      <td>1.0</td>\n",
       "      <td>Rural</td>\n",
       "      <td>1</td>\n",
       "    </tr>\n",
       "    <tr>\n",
       "      <th>611</th>\n",
       "      <td>Male</td>\n",
       "      <td>Yes</td>\n",
       "      <td>1</td>\n",
       "      <td>Graduate</td>\n",
       "      <td>No</td>\n",
       "      <td>8072</td>\n",
       "      <td>240.0</td>\n",
       "      <td>253.000000</td>\n",
       "      <td>360.0</td>\n",
       "      <td>1.0</td>\n",
       "      <td>Urban</td>\n",
       "      <td>1</td>\n",
       "    </tr>\n",
       "    <tr>\n",
       "      <th>612</th>\n",
       "      <td>Male</td>\n",
       "      <td>Yes</td>\n",
       "      <td>2</td>\n",
       "      <td>Graduate</td>\n",
       "      <td>No</td>\n",
       "      <td>7583</td>\n",
       "      <td>0.0</td>\n",
       "      <td>187.000000</td>\n",
       "      <td>360.0</td>\n",
       "      <td>1.0</td>\n",
       "      <td>Urban</td>\n",
       "      <td>1</td>\n",
       "    </tr>\n",
       "    <tr>\n",
       "      <th>613</th>\n",
       "      <td>Female</td>\n",
       "      <td>No</td>\n",
       "      <td>0</td>\n",
       "      <td>Graduate</td>\n",
       "      <td>Yes</td>\n",
       "      <td>4583</td>\n",
       "      <td>0.0</td>\n",
       "      <td>133.000000</td>\n",
       "      <td>360.0</td>\n",
       "      <td>0.0</td>\n",
       "      <td>Semiurban</td>\n",
       "      <td>0</td>\n",
       "    </tr>\n",
       "  </tbody>\n",
       "</table>\n",
       "<p>614 rows × 12 columns</p>\n",
       "</div>"
      ],
      "text/plain": [
       "     Gender Married Dependents     Education Self_Employed  ApplicantIncome  \\\n",
       "0      Male      No          0      Graduate            No             5849   \n",
       "1      Male     Yes          1      Graduate            No             4583   \n",
       "2      Male     Yes          0      Graduate           Yes             3000   \n",
       "3      Male     Yes          0  Not Graduate            No             2583   \n",
       "4      Male      No          0      Graduate            No             6000   \n",
       "..      ...     ...        ...           ...           ...              ...   \n",
       "609  Female      No          0      Graduate            No             2900   \n",
       "610    Male     Yes         3+      Graduate            No             4106   \n",
       "611    Male     Yes          1      Graduate            No             8072   \n",
       "612    Male     Yes          2      Graduate            No             7583   \n",
       "613  Female      No          0      Graduate           Yes             4583   \n",
       "\n",
       "     CoapplicantIncome  LoanAmount  Loan_Amount_Term  Credit_History  \\\n",
       "0                  0.0  146.412162             360.0             1.0   \n",
       "1               1508.0  128.000000             360.0             1.0   \n",
       "2                  0.0   66.000000             360.0             1.0   \n",
       "3               2358.0  120.000000             360.0             1.0   \n",
       "4                  0.0  141.000000             360.0             1.0   \n",
       "..                 ...         ...               ...             ...   \n",
       "609                0.0   71.000000             360.0             1.0   \n",
       "610                0.0   40.000000             180.0             1.0   \n",
       "611              240.0  253.000000             360.0             1.0   \n",
       "612                0.0  187.000000             360.0             1.0   \n",
       "613                0.0  133.000000             360.0             0.0   \n",
       "\n",
       "    Property_Area  Loan_Status  \n",
       "0           Urban            1  \n",
       "1           Rural            0  \n",
       "2           Urban            1  \n",
       "3           Urban            1  \n",
       "4           Urban            1  \n",
       "..            ...          ...  \n",
       "609         Rural            1  \n",
       "610         Rural            1  \n",
       "611         Urban            1  \n",
       "612         Urban            1  \n",
       "613     Semiurban            0  \n",
       "\n",
       "[614 rows x 12 columns]"
      ]
     },
     "execution_count": 15,
     "metadata": {},
     "output_type": "execute_result"
    }
   ],
   "source": [
    "Loan"
   ]
  },
  {
   "cell_type": "code",
   "execution_count": 18,
   "id": "01e8eee3",
   "metadata": {},
   "outputs": [],
   "source": [
    "from sklearn.preprocessing import OrdinalEncoder\n",
    "oe = OrdinalEncoder()\n",
    "\n",
    "for i in Loan.columns:\n",
    "    if Loan[i].dtypes== 'object':\n",
    "        Loan[i]= oe.fit_transform(Loan[i].values.reshape(-1,1))"
   ]
  },
  {
   "cell_type": "code",
   "execution_count": 19,
   "id": "47fe66a6",
   "metadata": {},
   "outputs": [
    {
     "data": {
      "text/html": [
       "<div>\n",
       "<style scoped>\n",
       "    .dataframe tbody tr th:only-of-type {\n",
       "        vertical-align: middle;\n",
       "    }\n",
       "\n",
       "    .dataframe tbody tr th {\n",
       "        vertical-align: top;\n",
       "    }\n",
       "\n",
       "    .dataframe thead th {\n",
       "        text-align: right;\n",
       "    }\n",
       "</style>\n",
       "<table border=\"1\" class=\"dataframe\">\n",
       "  <thead>\n",
       "    <tr style=\"text-align: right;\">\n",
       "      <th></th>\n",
       "      <th>Gender</th>\n",
       "      <th>Married</th>\n",
       "      <th>Dependents</th>\n",
       "      <th>Education</th>\n",
       "      <th>Self_Employed</th>\n",
       "      <th>ApplicantIncome</th>\n",
       "      <th>CoapplicantIncome</th>\n",
       "      <th>LoanAmount</th>\n",
       "      <th>Loan_Amount_Term</th>\n",
       "      <th>Credit_History</th>\n",
       "      <th>Property_Area</th>\n",
       "      <th>Loan_Status</th>\n",
       "    </tr>\n",
       "  </thead>\n",
       "  <tbody>\n",
       "    <tr>\n",
       "      <th>0</th>\n",
       "      <td>1.0</td>\n",
       "      <td>0.0</td>\n",
       "      <td>0.0</td>\n",
       "      <td>0.0</td>\n",
       "      <td>0.0</td>\n",
       "      <td>5849</td>\n",
       "      <td>0.0</td>\n",
       "      <td>146.412162</td>\n",
       "      <td>360.0</td>\n",
       "      <td>1.0</td>\n",
       "      <td>2.0</td>\n",
       "      <td>1</td>\n",
       "    </tr>\n",
       "    <tr>\n",
       "      <th>1</th>\n",
       "      <td>1.0</td>\n",
       "      <td>1.0</td>\n",
       "      <td>1.0</td>\n",
       "      <td>0.0</td>\n",
       "      <td>0.0</td>\n",
       "      <td>4583</td>\n",
       "      <td>1508.0</td>\n",
       "      <td>128.000000</td>\n",
       "      <td>360.0</td>\n",
       "      <td>1.0</td>\n",
       "      <td>0.0</td>\n",
       "      <td>0</td>\n",
       "    </tr>\n",
       "    <tr>\n",
       "      <th>2</th>\n",
       "      <td>1.0</td>\n",
       "      <td>1.0</td>\n",
       "      <td>0.0</td>\n",
       "      <td>0.0</td>\n",
       "      <td>1.0</td>\n",
       "      <td>3000</td>\n",
       "      <td>0.0</td>\n",
       "      <td>66.000000</td>\n",
       "      <td>360.0</td>\n",
       "      <td>1.0</td>\n",
       "      <td>2.0</td>\n",
       "      <td>1</td>\n",
       "    </tr>\n",
       "    <tr>\n",
       "      <th>3</th>\n",
       "      <td>1.0</td>\n",
       "      <td>1.0</td>\n",
       "      <td>0.0</td>\n",
       "      <td>1.0</td>\n",
       "      <td>0.0</td>\n",
       "      <td>2583</td>\n",
       "      <td>2358.0</td>\n",
       "      <td>120.000000</td>\n",
       "      <td>360.0</td>\n",
       "      <td>1.0</td>\n",
       "      <td>2.0</td>\n",
       "      <td>1</td>\n",
       "    </tr>\n",
       "    <tr>\n",
       "      <th>4</th>\n",
       "      <td>1.0</td>\n",
       "      <td>0.0</td>\n",
       "      <td>0.0</td>\n",
       "      <td>0.0</td>\n",
       "      <td>0.0</td>\n",
       "      <td>6000</td>\n",
       "      <td>0.0</td>\n",
       "      <td>141.000000</td>\n",
       "      <td>360.0</td>\n",
       "      <td>1.0</td>\n",
       "      <td>2.0</td>\n",
       "      <td>1</td>\n",
       "    </tr>\n",
       "  </tbody>\n",
       "</table>\n",
       "</div>"
      ],
      "text/plain": [
       "   Gender  Married  Dependents  Education  Self_Employed  ApplicantIncome  \\\n",
       "0     1.0      0.0         0.0        0.0            0.0             5849   \n",
       "1     1.0      1.0         1.0        0.0            0.0             4583   \n",
       "2     1.0      1.0         0.0        0.0            1.0             3000   \n",
       "3     1.0      1.0         0.0        1.0            0.0             2583   \n",
       "4     1.0      0.0         0.0        0.0            0.0             6000   \n",
       "\n",
       "   CoapplicantIncome  LoanAmount  Loan_Amount_Term  Credit_History  \\\n",
       "0                0.0  146.412162             360.0             1.0   \n",
       "1             1508.0  128.000000             360.0             1.0   \n",
       "2                0.0   66.000000             360.0             1.0   \n",
       "3             2358.0  120.000000             360.0             1.0   \n",
       "4                0.0  141.000000             360.0             1.0   \n",
       "\n",
       "   Property_Area  Loan_Status  \n",
       "0            2.0            1  \n",
       "1            0.0            0  \n",
       "2            2.0            1  \n",
       "3            2.0            1  \n",
       "4            2.0            1  "
      ]
     },
     "execution_count": 19,
     "metadata": {},
     "output_type": "execute_result"
    }
   ],
   "source": [
    "Loan.head()"
   ]
  },
  {
   "cell_type": "code",
   "execution_count": 21,
   "id": "e9be22f4",
   "metadata": {},
   "outputs": [],
   "source": [
    "Loan['Dependents']=(Loan['Dependents'].replace(+3,3))"
   ]
  },
  {
   "cell_type": "code",
   "execution_count": 22,
   "id": "c02523df",
   "metadata": {},
   "outputs": [
    {
     "data": {
      "text/html": [
       "<div>\n",
       "<style scoped>\n",
       "    .dataframe tbody tr th:only-of-type {\n",
       "        vertical-align: middle;\n",
       "    }\n",
       "\n",
       "    .dataframe tbody tr th {\n",
       "        vertical-align: top;\n",
       "    }\n",
       "\n",
       "    .dataframe thead th {\n",
       "        text-align: right;\n",
       "    }\n",
       "</style>\n",
       "<table border=\"1\" class=\"dataframe\">\n",
       "  <thead>\n",
       "    <tr style=\"text-align: right;\">\n",
       "      <th></th>\n",
       "      <th>Gender</th>\n",
       "      <th>Married</th>\n",
       "      <th>Dependents</th>\n",
       "      <th>Education</th>\n",
       "      <th>Self_Employed</th>\n",
       "      <th>ApplicantIncome</th>\n",
       "      <th>CoapplicantIncome</th>\n",
       "      <th>LoanAmount</th>\n",
       "      <th>Loan_Amount_Term</th>\n",
       "      <th>Credit_History</th>\n",
       "      <th>Property_Area</th>\n",
       "      <th>Loan_Status</th>\n",
       "    </tr>\n",
       "  </thead>\n",
       "  <tbody>\n",
       "    <tr>\n",
       "      <th>0</th>\n",
       "      <td>1.0</td>\n",
       "      <td>0.0</td>\n",
       "      <td>0.0</td>\n",
       "      <td>0.0</td>\n",
       "      <td>0.0</td>\n",
       "      <td>5849</td>\n",
       "      <td>0.0</td>\n",
       "      <td>146.412162</td>\n",
       "      <td>360.0</td>\n",
       "      <td>1.0</td>\n",
       "      <td>2.0</td>\n",
       "      <td>1</td>\n",
       "    </tr>\n",
       "    <tr>\n",
       "      <th>1</th>\n",
       "      <td>1.0</td>\n",
       "      <td>1.0</td>\n",
       "      <td>1.0</td>\n",
       "      <td>0.0</td>\n",
       "      <td>0.0</td>\n",
       "      <td>4583</td>\n",
       "      <td>1508.0</td>\n",
       "      <td>128.000000</td>\n",
       "      <td>360.0</td>\n",
       "      <td>1.0</td>\n",
       "      <td>0.0</td>\n",
       "      <td>0</td>\n",
       "    </tr>\n",
       "    <tr>\n",
       "      <th>2</th>\n",
       "      <td>1.0</td>\n",
       "      <td>1.0</td>\n",
       "      <td>0.0</td>\n",
       "      <td>0.0</td>\n",
       "      <td>1.0</td>\n",
       "      <td>3000</td>\n",
       "      <td>0.0</td>\n",
       "      <td>66.000000</td>\n",
       "      <td>360.0</td>\n",
       "      <td>1.0</td>\n",
       "      <td>2.0</td>\n",
       "      <td>1</td>\n",
       "    </tr>\n",
       "    <tr>\n",
       "      <th>3</th>\n",
       "      <td>1.0</td>\n",
       "      <td>1.0</td>\n",
       "      <td>0.0</td>\n",
       "      <td>1.0</td>\n",
       "      <td>0.0</td>\n",
       "      <td>2583</td>\n",
       "      <td>2358.0</td>\n",
       "      <td>120.000000</td>\n",
       "      <td>360.0</td>\n",
       "      <td>1.0</td>\n",
       "      <td>2.0</td>\n",
       "      <td>1</td>\n",
       "    </tr>\n",
       "    <tr>\n",
       "      <th>4</th>\n",
       "      <td>1.0</td>\n",
       "      <td>0.0</td>\n",
       "      <td>0.0</td>\n",
       "      <td>0.0</td>\n",
       "      <td>0.0</td>\n",
       "      <td>6000</td>\n",
       "      <td>0.0</td>\n",
       "      <td>141.000000</td>\n",
       "      <td>360.0</td>\n",
       "      <td>1.0</td>\n",
       "      <td>2.0</td>\n",
       "      <td>1</td>\n",
       "    </tr>\n",
       "    <tr>\n",
       "      <th>...</th>\n",
       "      <td>...</td>\n",
       "      <td>...</td>\n",
       "      <td>...</td>\n",
       "      <td>...</td>\n",
       "      <td>...</td>\n",
       "      <td>...</td>\n",
       "      <td>...</td>\n",
       "      <td>...</td>\n",
       "      <td>...</td>\n",
       "      <td>...</td>\n",
       "      <td>...</td>\n",
       "      <td>...</td>\n",
       "    </tr>\n",
       "    <tr>\n",
       "      <th>609</th>\n",
       "      <td>0.0</td>\n",
       "      <td>0.0</td>\n",
       "      <td>0.0</td>\n",
       "      <td>0.0</td>\n",
       "      <td>0.0</td>\n",
       "      <td>2900</td>\n",
       "      <td>0.0</td>\n",
       "      <td>71.000000</td>\n",
       "      <td>360.0</td>\n",
       "      <td>1.0</td>\n",
       "      <td>0.0</td>\n",
       "      <td>1</td>\n",
       "    </tr>\n",
       "    <tr>\n",
       "      <th>610</th>\n",
       "      <td>1.0</td>\n",
       "      <td>1.0</td>\n",
       "      <td>3.0</td>\n",
       "      <td>0.0</td>\n",
       "      <td>0.0</td>\n",
       "      <td>4106</td>\n",
       "      <td>0.0</td>\n",
       "      <td>40.000000</td>\n",
       "      <td>180.0</td>\n",
       "      <td>1.0</td>\n",
       "      <td>0.0</td>\n",
       "      <td>1</td>\n",
       "    </tr>\n",
       "    <tr>\n",
       "      <th>611</th>\n",
       "      <td>1.0</td>\n",
       "      <td>1.0</td>\n",
       "      <td>1.0</td>\n",
       "      <td>0.0</td>\n",
       "      <td>0.0</td>\n",
       "      <td>8072</td>\n",
       "      <td>240.0</td>\n",
       "      <td>253.000000</td>\n",
       "      <td>360.0</td>\n",
       "      <td>1.0</td>\n",
       "      <td>2.0</td>\n",
       "      <td>1</td>\n",
       "    </tr>\n",
       "    <tr>\n",
       "      <th>612</th>\n",
       "      <td>1.0</td>\n",
       "      <td>1.0</td>\n",
       "      <td>2.0</td>\n",
       "      <td>0.0</td>\n",
       "      <td>0.0</td>\n",
       "      <td>7583</td>\n",
       "      <td>0.0</td>\n",
       "      <td>187.000000</td>\n",
       "      <td>360.0</td>\n",
       "      <td>1.0</td>\n",
       "      <td>2.0</td>\n",
       "      <td>1</td>\n",
       "    </tr>\n",
       "    <tr>\n",
       "      <th>613</th>\n",
       "      <td>0.0</td>\n",
       "      <td>0.0</td>\n",
       "      <td>0.0</td>\n",
       "      <td>0.0</td>\n",
       "      <td>1.0</td>\n",
       "      <td>4583</td>\n",
       "      <td>0.0</td>\n",
       "      <td>133.000000</td>\n",
       "      <td>360.0</td>\n",
       "      <td>0.0</td>\n",
       "      <td>1.0</td>\n",
       "      <td>0</td>\n",
       "    </tr>\n",
       "  </tbody>\n",
       "</table>\n",
       "<p>614 rows × 12 columns</p>\n",
       "</div>"
      ],
      "text/plain": [
       "     Gender  Married  Dependents  Education  Self_Employed  ApplicantIncome  \\\n",
       "0       1.0      0.0         0.0        0.0            0.0             5849   \n",
       "1       1.0      1.0         1.0        0.0            0.0             4583   \n",
       "2       1.0      1.0         0.0        0.0            1.0             3000   \n",
       "3       1.0      1.0         0.0        1.0            0.0             2583   \n",
       "4       1.0      0.0         0.0        0.0            0.0             6000   \n",
       "..      ...      ...         ...        ...            ...              ...   \n",
       "609     0.0      0.0         0.0        0.0            0.0             2900   \n",
       "610     1.0      1.0         3.0        0.0            0.0             4106   \n",
       "611     1.0      1.0         1.0        0.0            0.0             8072   \n",
       "612     1.0      1.0         2.0        0.0            0.0             7583   \n",
       "613     0.0      0.0         0.0        0.0            1.0             4583   \n",
       "\n",
       "     CoapplicantIncome  LoanAmount  Loan_Amount_Term  Credit_History  \\\n",
       "0                  0.0  146.412162             360.0             1.0   \n",
       "1               1508.0  128.000000             360.0             1.0   \n",
       "2                  0.0   66.000000             360.0             1.0   \n",
       "3               2358.0  120.000000             360.0             1.0   \n",
       "4                  0.0  141.000000             360.0             1.0   \n",
       "..                 ...         ...               ...             ...   \n",
       "609                0.0   71.000000             360.0             1.0   \n",
       "610                0.0   40.000000             180.0             1.0   \n",
       "611              240.0  253.000000             360.0             1.0   \n",
       "612                0.0  187.000000             360.0             1.0   \n",
       "613                0.0  133.000000             360.0             0.0   \n",
       "\n",
       "     Property_Area  Loan_Status  \n",
       "0              2.0            1  \n",
       "1              0.0            0  \n",
       "2              2.0            1  \n",
       "3              2.0            1  \n",
       "4              2.0            1  \n",
       "..             ...          ...  \n",
       "609            0.0            1  \n",
       "610            0.0            1  \n",
       "611            2.0            1  \n",
       "612            2.0            1  \n",
       "613            1.0            0  \n",
       "\n",
       "[614 rows x 12 columns]"
      ]
     },
     "execution_count": 22,
     "metadata": {},
     "output_type": "execute_result"
    }
   ],
   "source": [
    "Loan"
   ]
  },
  {
   "cell_type": "markdown",
   "id": "99c50ad5",
   "metadata": {},
   "source": [
    "## Correlation"
   ]
  },
  {
   "cell_type": "code",
   "execution_count": 26,
   "id": "8df2b00a",
   "metadata": {},
   "outputs": [
    {
     "data": {
      "text/html": [
       "<div>\n",
       "<style scoped>\n",
       "    .dataframe tbody tr th:only-of-type {\n",
       "        vertical-align: middle;\n",
       "    }\n",
       "\n",
       "    .dataframe tbody tr th {\n",
       "        vertical-align: top;\n",
       "    }\n",
       "\n",
       "    .dataframe thead th {\n",
       "        text-align: right;\n",
       "    }\n",
       "</style>\n",
       "<table border=\"1\" class=\"dataframe\">\n",
       "  <thead>\n",
       "    <tr style=\"text-align: right;\">\n",
       "      <th></th>\n",
       "      <th>Gender</th>\n",
       "      <th>Married</th>\n",
       "      <th>Dependents</th>\n",
       "      <th>Education</th>\n",
       "      <th>Self_Employed</th>\n",
       "      <th>ApplicantIncome</th>\n",
       "      <th>CoapplicantIncome</th>\n",
       "      <th>LoanAmount</th>\n",
       "      <th>Loan_Amount_Term</th>\n",
       "      <th>Credit_History</th>\n",
       "      <th>Property_Area</th>\n",
       "      <th>Loan_Status</th>\n",
       "    </tr>\n",
       "  </thead>\n",
       "  <tbody>\n",
       "    <tr>\n",
       "      <th>Gender</th>\n",
       "      <td>1.000000</td>\n",
       "      <td>0.364569</td>\n",
       "      <td>0.172914</td>\n",
       "      <td>0.045364</td>\n",
       "      <td>-0.000525</td>\n",
       "      <td>0.058809</td>\n",
       "      <td>0.082912</td>\n",
       "      <td>0.107930</td>\n",
       "      <td>-0.074030</td>\n",
       "      <td>0.009170</td>\n",
       "      <td>-0.025752</td>\n",
       "      <td>0.017987</td>\n",
       "    </tr>\n",
       "    <tr>\n",
       "      <th>Married</th>\n",
       "      <td>0.364569</td>\n",
       "      <td>1.000000</td>\n",
       "      <td>0.334216</td>\n",
       "      <td>0.012304</td>\n",
       "      <td>0.004489</td>\n",
       "      <td>0.051708</td>\n",
       "      <td>0.075948</td>\n",
       "      <td>0.147141</td>\n",
       "      <td>-0.100912</td>\n",
       "      <td>0.010938</td>\n",
       "      <td>0.004257</td>\n",
       "      <td>0.091478</td>\n",
       "    </tr>\n",
       "    <tr>\n",
       "      <th>Dependents</th>\n",
       "      <td>0.172914</td>\n",
       "      <td>0.334216</td>\n",
       "      <td>1.000000</td>\n",
       "      <td>0.055752</td>\n",
       "      <td>0.056798</td>\n",
       "      <td>0.118202</td>\n",
       "      <td>0.030430</td>\n",
       "      <td>0.163106</td>\n",
       "      <td>-0.103864</td>\n",
       "      <td>-0.040160</td>\n",
       "      <td>-0.000244</td>\n",
       "      <td>0.010118</td>\n",
       "    </tr>\n",
       "    <tr>\n",
       "      <th>Education</th>\n",
       "      <td>0.045364</td>\n",
       "      <td>0.012304</td>\n",
       "      <td>0.055752</td>\n",
       "      <td>1.000000</td>\n",
       "      <td>-0.010383</td>\n",
       "      <td>-0.140760</td>\n",
       "      <td>-0.062290</td>\n",
       "      <td>-0.166998</td>\n",
       "      <td>-0.073928</td>\n",
       "      <td>-0.073658</td>\n",
       "      <td>-0.065243</td>\n",
       "      <td>-0.085884</td>\n",
       "    </tr>\n",
       "    <tr>\n",
       "      <th>Self_Employed</th>\n",
       "      <td>-0.000525</td>\n",
       "      <td>0.004489</td>\n",
       "      <td>0.056798</td>\n",
       "      <td>-0.010383</td>\n",
       "      <td>1.000000</td>\n",
       "      <td>0.127180</td>\n",
       "      <td>-0.016100</td>\n",
       "      <td>0.115260</td>\n",
       "      <td>-0.033739</td>\n",
       "      <td>-0.001550</td>\n",
       "      <td>-0.030860</td>\n",
       "      <td>-0.003700</td>\n",
       "    </tr>\n",
       "    <tr>\n",
       "      <th>ApplicantIncome</th>\n",
       "      <td>0.058809</td>\n",
       "      <td>0.051708</td>\n",
       "      <td>0.118202</td>\n",
       "      <td>-0.140760</td>\n",
       "      <td>0.127180</td>\n",
       "      <td>1.000000</td>\n",
       "      <td>-0.116605</td>\n",
       "      <td>0.565620</td>\n",
       "      <td>-0.046531</td>\n",
       "      <td>-0.018615</td>\n",
       "      <td>-0.009500</td>\n",
       "      <td>-0.004710</td>\n",
       "    </tr>\n",
       "    <tr>\n",
       "      <th>CoapplicantIncome</th>\n",
       "      <td>0.082912</td>\n",
       "      <td>0.075948</td>\n",
       "      <td>0.030430</td>\n",
       "      <td>-0.062290</td>\n",
       "      <td>-0.016100</td>\n",
       "      <td>-0.116605</td>\n",
       "      <td>1.000000</td>\n",
       "      <td>0.187828</td>\n",
       "      <td>-0.059383</td>\n",
       "      <td>0.011134</td>\n",
       "      <td>0.010522</td>\n",
       "      <td>-0.059187</td>\n",
       "    </tr>\n",
       "    <tr>\n",
       "      <th>LoanAmount</th>\n",
       "      <td>0.107930</td>\n",
       "      <td>0.147141</td>\n",
       "      <td>0.163106</td>\n",
       "      <td>-0.166998</td>\n",
       "      <td>0.115260</td>\n",
       "      <td>0.565620</td>\n",
       "      <td>0.187828</td>\n",
       "      <td>1.000000</td>\n",
       "      <td>0.036475</td>\n",
       "      <td>-0.001431</td>\n",
       "      <td>-0.044776</td>\n",
       "      <td>-0.036416</td>\n",
       "    </tr>\n",
       "    <tr>\n",
       "      <th>Loan_Amount_Term</th>\n",
       "      <td>-0.074030</td>\n",
       "      <td>-0.100912</td>\n",
       "      <td>-0.103864</td>\n",
       "      <td>-0.073928</td>\n",
       "      <td>-0.033739</td>\n",
       "      <td>-0.046531</td>\n",
       "      <td>-0.059383</td>\n",
       "      <td>0.036475</td>\n",
       "      <td>1.000000</td>\n",
       "      <td>-0.004705</td>\n",
       "      <td>-0.076120</td>\n",
       "      <td>-0.022549</td>\n",
       "    </tr>\n",
       "    <tr>\n",
       "      <th>Credit_History</th>\n",
       "      <td>0.009170</td>\n",
       "      <td>0.010938</td>\n",
       "      <td>-0.040160</td>\n",
       "      <td>-0.073658</td>\n",
       "      <td>-0.001550</td>\n",
       "      <td>-0.018615</td>\n",
       "      <td>0.011134</td>\n",
       "      <td>-0.001431</td>\n",
       "      <td>-0.004705</td>\n",
       "      <td>1.000000</td>\n",
       "      <td>0.001963</td>\n",
       "      <td>0.540556</td>\n",
       "    </tr>\n",
       "    <tr>\n",
       "      <th>Property_Area</th>\n",
       "      <td>-0.025752</td>\n",
       "      <td>0.004257</td>\n",
       "      <td>-0.000244</td>\n",
       "      <td>-0.065243</td>\n",
       "      <td>-0.030860</td>\n",
       "      <td>-0.009500</td>\n",
       "      <td>0.010522</td>\n",
       "      <td>-0.044776</td>\n",
       "      <td>-0.076120</td>\n",
       "      <td>0.001963</td>\n",
       "      <td>1.000000</td>\n",
       "      <td>0.032112</td>\n",
       "    </tr>\n",
       "    <tr>\n",
       "      <th>Loan_Status</th>\n",
       "      <td>0.017987</td>\n",
       "      <td>0.091478</td>\n",
       "      <td>0.010118</td>\n",
       "      <td>-0.085884</td>\n",
       "      <td>-0.003700</td>\n",
       "      <td>-0.004710</td>\n",
       "      <td>-0.059187</td>\n",
       "      <td>-0.036416</td>\n",
       "      <td>-0.022549</td>\n",
       "      <td>0.540556</td>\n",
       "      <td>0.032112</td>\n",
       "      <td>1.000000</td>\n",
       "    </tr>\n",
       "  </tbody>\n",
       "</table>\n",
       "</div>"
      ],
      "text/plain": [
       "                     Gender   Married  Dependents  Education  Self_Employed  \\\n",
       "Gender             1.000000  0.364569    0.172914   0.045364      -0.000525   \n",
       "Married            0.364569  1.000000    0.334216   0.012304       0.004489   \n",
       "Dependents         0.172914  0.334216    1.000000   0.055752       0.056798   \n",
       "Education          0.045364  0.012304    0.055752   1.000000      -0.010383   \n",
       "Self_Employed     -0.000525  0.004489    0.056798  -0.010383       1.000000   \n",
       "ApplicantIncome    0.058809  0.051708    0.118202  -0.140760       0.127180   \n",
       "CoapplicantIncome  0.082912  0.075948    0.030430  -0.062290      -0.016100   \n",
       "LoanAmount         0.107930  0.147141    0.163106  -0.166998       0.115260   \n",
       "Loan_Amount_Term  -0.074030 -0.100912   -0.103864  -0.073928      -0.033739   \n",
       "Credit_History     0.009170  0.010938   -0.040160  -0.073658      -0.001550   \n",
       "Property_Area     -0.025752  0.004257   -0.000244  -0.065243      -0.030860   \n",
       "Loan_Status        0.017987  0.091478    0.010118  -0.085884      -0.003700   \n",
       "\n",
       "                   ApplicantIncome  CoapplicantIncome  LoanAmount  \\\n",
       "Gender                    0.058809           0.082912    0.107930   \n",
       "Married                   0.051708           0.075948    0.147141   \n",
       "Dependents                0.118202           0.030430    0.163106   \n",
       "Education                -0.140760          -0.062290   -0.166998   \n",
       "Self_Employed             0.127180          -0.016100    0.115260   \n",
       "ApplicantIncome           1.000000          -0.116605    0.565620   \n",
       "CoapplicantIncome        -0.116605           1.000000    0.187828   \n",
       "LoanAmount                0.565620           0.187828    1.000000   \n",
       "Loan_Amount_Term         -0.046531          -0.059383    0.036475   \n",
       "Credit_History           -0.018615           0.011134   -0.001431   \n",
       "Property_Area            -0.009500           0.010522   -0.044776   \n",
       "Loan_Status              -0.004710          -0.059187   -0.036416   \n",
       "\n",
       "                   Loan_Amount_Term  Credit_History  Property_Area  \\\n",
       "Gender                    -0.074030        0.009170      -0.025752   \n",
       "Married                   -0.100912        0.010938       0.004257   \n",
       "Dependents                -0.103864       -0.040160      -0.000244   \n",
       "Education                 -0.073928       -0.073658      -0.065243   \n",
       "Self_Employed             -0.033739       -0.001550      -0.030860   \n",
       "ApplicantIncome           -0.046531       -0.018615      -0.009500   \n",
       "CoapplicantIncome         -0.059383        0.011134       0.010522   \n",
       "LoanAmount                 0.036475       -0.001431      -0.044776   \n",
       "Loan_Amount_Term           1.000000       -0.004705      -0.076120   \n",
       "Credit_History            -0.004705        1.000000       0.001963   \n",
       "Property_Area             -0.076120        0.001963       1.000000   \n",
       "Loan_Status               -0.022549        0.540556       0.032112   \n",
       "\n",
       "                   Loan_Status  \n",
       "Gender                0.017987  \n",
       "Married               0.091478  \n",
       "Dependents            0.010118  \n",
       "Education            -0.085884  \n",
       "Self_Employed        -0.003700  \n",
       "ApplicantIncome      -0.004710  \n",
       "CoapplicantIncome    -0.059187  \n",
       "LoanAmount           -0.036416  \n",
       "Loan_Amount_Term     -0.022549  \n",
       "Credit_History        0.540556  \n",
       "Property_Area         0.032112  \n",
       "Loan_Status           1.000000  "
      ]
     },
     "execution_count": 26,
     "metadata": {},
     "output_type": "execute_result"
    }
   ],
   "source": [
    "corr = Loan.corr()\n",
    "corr"
   ]
  },
  {
   "cell_type": "code",
   "execution_count": 30,
   "id": "aae19183",
   "metadata": {},
   "outputs": [
    {
     "data": {
      "text/plain": [
       "<AxesSubplot:>"
      ]
     },
     "execution_count": 30,
     "metadata": {},
     "output_type": "execute_result"
    },
    {
     "data": {
      "image/png": "[encoded data removed]",
      "text/plain": [
       "<Figure size 1080x720 with 2 Axes>"
      ]
     },
     "metadata": {
      "needs_background": "light"
     },
     "output_type": "display_data"
    }
   ],
   "source": [
    "plt.figure(figsize=(15,10))\n",
    "sns.heatmap(corr,annot=True)"
   ]
  },
  {
   "cell_type": "code",
   "execution_count": 33,
   "id": "23f6a249",
   "metadata": {},
   "outputs": [
    {
     "data": {
      "text/plain": [
       "<AxesSubplot:>"
      ]
     },
     "execution_count": 33,
     "metadata": {},
     "output_type": "execute_result"
    },
    {
     "data": {
      "image/png": "[encoded data removed]",
      "text/plain": [
       "<Figure size 720x360 with 1 Axes>"
      ]
     },
     "metadata": {
      "needs_background": "light"
     },
     "output_type": "display_data"
    }
   ],
   "source": [
    "Loan.drop('Loan_Status',axis= 1).corrwith(Loan.Loan_Status).sort_values(ascending= False).plot(kind='bar', figsize = (10,5))\n"
   ]
  },
  {
   "cell_type": "markdown",
   "id": "1cb3952a",
   "metadata": {},
   "source": [
    "- Here we can visualize the correlation between the features and target\n",
    "- Credit History is showing a very high positive correlation with Loan Status\n",
    "- Self Employment and Applicant income have very less correlation with the targent"
   ]
  },
  {
   "cell_type": "markdown",
   "id": "eacd88aa",
   "metadata": {},
   "source": [
    "## Checking for outliers"
   ]
  },
  {
   "cell_type": "code",
   "execution_count": 35,
   "id": "d3ebf49f",
   "metadata": {},
   "outputs": [],
   "source": [
    "f = Loan[['LoanAmount','ApplicantIncome','CoapplicantIncome']]"
   ]
  },
  {
   "cell_type": "code",
   "execution_count": 41,
   "id": "acd4788f",
   "metadata": {},
   "outputs": [
    {
     "data": {
      "image/png": "[encoded data removed]",
      "text/plain": [
       "<Figure size 1080x360 with 3 Axes>"
      ]
     },
     "metadata": {},
     "output_type": "display_data"
    }
   ],
   "source": [
    "plt.figure(figsize =(15,5), facecolor='white')\n",
    "plotnumber = 1\n",
    "\n",
    "for column in f :\n",
    "    if plotnumber <= 3:\n",
    "        ax = plt.subplot(1,3,plotnumber)\n",
    "        sns.boxplot(f[column])\n",
    "        plt.xlabel(column,fontsize=20)\n",
    "    \n",
    "    plotnumber +=1\n",
    "plt.show()"
   ]
  },
  {
   "cell_type": "markdown",
   "id": "8608edb3",
   "metadata": {},
   "source": [
    "- we do observe a lot of outliers but these seem to be natural outliers since we have data from people of different backgrounds "
   ]
  },
  {
   "cell_type": "markdown",
   "id": "ad0572fc",
   "metadata": {},
   "source": [
    "#### Removal of outliers"
   ]
  },
  {
   "cell_type": "code",
   "execution_count": 44,
   "id": "5d73e080",
   "metadata": {},
   "outputs": [],
   "source": [
    "f=Loan[['LoanAmount','ApplicantIncome', 'CoapplicantIncome']]\n"
   ]
  },
  {
   "cell_type": "code",
   "execution_count": 45,
   "id": "41d56629",
   "metadata": {},
   "outputs": [
    {
     "data": {
      "text/plain": [
       "False"
      ]
     },
     "execution_count": 45,
     "metadata": {},
     "output_type": "execute_result"
    }
   ],
   "source": [
    "import scipy\n",
    "from scipy.stats import zscore\n",
    "np.abs(zscore(f)<3).all().all()"
   ]
  },
  {
   "cell_type": "code",
   "execution_count": 47,
   "id": "7462333d",
   "metadata": {},
   "outputs": [],
   "source": [
    "z=np.abs(zscore(f))"
   ]
  },
  {
   "cell_type": "code",
   "execution_count": 48,
   "id": "824b8cda",
   "metadata": {},
   "outputs": [
    {
     "data": {
      "text/plain": [
       "(589, 12)"
      ]
     },
     "execution_count": 48,
     "metadata": {},
     "output_type": "execute_result"
    }
   ],
   "source": [
    "df=Loan[(z<3).all(axis=1)]\n",
    "df.shape"
   ]
  },
  {
   "cell_type": "markdown",
   "id": "06275eb9",
   "metadata": {},
   "source": [
    "#### Splitting data"
   ]
  },
  {
   "cell_type": "code",
   "execution_count": 50,
   "id": "869d9f00",
   "metadata": {},
   "outputs": [],
   "source": [
    "X= df.drop('Loan_Status',axis=1)"
   ]
  },
  {
   "cell_type": "code",
   "execution_count": 51,
   "id": "ad1146d7",
   "metadata": {},
   "outputs": [],
   "source": [
    "y= df['Loan_Status']"
   ]
  },
  {
   "cell_type": "markdown",
   "id": "1fc32a10",
   "metadata": {},
   "source": [
    "#### Checking for skewness\n"
   ]
  },
  {
   "cell_type": "code",
   "execution_count": 52,
   "id": "ec6ec548",
   "metadata": {},
   "outputs": [
    {
     "data": {
      "text/plain": [
       "Gender              -1.626104\n",
       "Married             -0.631755\n",
       "Dependents           1.038787\n",
       "Education            1.303332\n",
       "Self_Employed        2.218831\n",
       "ApplicantIncome      2.164762\n",
       "CoapplicantIncome    1.353191\n",
       "LoanAmount           1.076221\n",
       "Loan_Amount_Term    -2.446026\n",
       "Credit_History      -2.010069\n",
       "Property_Area       -0.063183\n",
       "dtype: float64"
      ]
     },
     "execution_count": 52,
     "metadata": {},
     "output_type": "execute_result"
    }
   ],
   "source": [
    "X.skew()"
   ]
  },
  {
   "cell_type": "markdown",
   "id": "9abbda53",
   "metadata": {},
   "source": [
    "- We do not have to treat skewness for categorical columns.\n",
    "- However, there seems to be skewness in the numerical columns : ApplicantIncome,CoapplicantIncome and LoanAmount which requires treatment"
   ]
  },
  {
   "cell_type": "code",
   "execution_count": 53,
   "id": "f6702fce",
   "metadata": {},
   "outputs": [
    {
     "data": {
      "text/plain": [
       "Gender              -1.626104\n",
       "Married             -0.631755\n",
       "Dependents           1.038787\n",
       "Education            1.303332\n",
       "Self_Employed        2.218831\n",
       "ApplicantIncome      0.028063\n",
       "CoapplicantIncome   -0.186195\n",
       "LoanAmount           0.060143\n",
       "Loan_Amount_Term    -2.446026\n",
       "Credit_History      -2.010069\n",
       "Property_Area       -0.063183\n",
       "dtype: float64"
      ]
     },
     "execution_count": 53,
     "metadata": {},
     "output_type": "execute_result"
    }
   ],
   "source": [
    "from sklearn.preprocessing import PowerTransformer\n",
    "scaler = PowerTransformer()\n",
    "\n",
    "i = ['ApplicantIncome','CoapplicantIncome','LoanAmount']\n",
    "X[i]= scaler.fit_transform(X[i].values)\n",
    "X.skew()"
   ]
  },
  {
   "cell_type": "markdown",
   "id": "a7231390",
   "metadata": {},
   "source": [
    "- our columns that were continous is now close to normal distribution"
   ]
  },
  {
   "cell_type": "markdown",
   "id": "96df08f1",
   "metadata": {},
   "source": [
    "#### SMOTE "
   ]
  },
  {
   "cell_type": "code",
   "execution_count": 59,
   "id": "13837c42",
   "metadata": {},
   "outputs": [],
   "source": [
    "##Balancing the dataset\n",
    "from imblearn import over_sampling\n",
    "from imblearn.over_sampling import SMOTE\n",
    "\n",
    "X,y = SMOTE().fit_resample(X, y)"
   ]
  },
  {
   "cell_type": "code",
   "execution_count": 60,
   "id": "accd2fd5",
   "metadata": {},
   "outputs": [
    {
     "data": {
      "text/plain": [
       "<AxesSubplot:xlabel='Loan_Status', ylabel='count'>"
      ]
     },
     "execution_count": 60,
     "metadata": {},
     "output_type": "execute_result"
    },
    {
     "data": {
      "image/png": "[encoded data removed]",
      "text/plain": [
       "<Figure size 432x288 with 1 Axes>"
      ]
     },
     "metadata": {
      "needs_background": "light"
     },
     "output_type": "display_data"
    }
   ],
   "source": [
    "sns.countplot(y,data=df)"
   ]
  },
  {
   "cell_type": "markdown",
   "id": "ee118a22",
   "metadata": {},
   "source": [
    "- Now the dataset is balanced"
   ]
  },
  {
   "cell_type": "markdown",
   "id": "bc1d89af",
   "metadata": {},
   "source": [
    "## Models"
   ]
  },
  {
   "cell_type": "code",
   "execution_count": 67,
   "id": "77a20197",
   "metadata": {},
   "outputs": [],
   "source": [
    "from sklearn.ensemble import RandomForestClassifier\n",
    "from sklearn.model_selection import train_test_split\n",
    "from sklearn.metrics import accuracy_score,confusion_matrix,roc_curve,roc_auc_score,classification_report"
   ]
  },
  {
   "cell_type": "code",
   "execution_count": 68,
   "id": "67a25e7c",
   "metadata": {},
   "outputs": [
    {
     "name": "stdout",
     "output_type": "stream",
     "text": [
      "accuracy 0.8536585365853658 random_state 1\n",
      "accuracy 0.8536585365853658 random_state 1\n",
      "accuracy 0.8658536585365854 random_state 1\n",
      "accuracy 0.8658536585365854 random_state 2\n",
      "accuracy 0.8414634146341463 random_state 1\n",
      "accuracy 0.8536585365853658 random_state 1\n",
      "accuracy 0.8170731707317073 random_state 1\n",
      "accuracy 0.7926829268292683 random_state 1\n",
      "accuracy 0.9024390243902439 random_state 1\n",
      "accuracy 0.9024390243902439 random_state 7\n",
      "accuracy 0.8048780487804879 random_state 1\n",
      "accuracy 0.9390243902439024 random_state 1\n",
      "accuracy 0.9390243902439024 random_state 9\n",
      "accuracy 0.8536585365853658 random_state 1\n",
      "accuracy 0.8780487804878049 random_state 1\n",
      "accuracy 0.9146341463414634 random_state 1\n",
      "accuracy 0.8658536585365854 random_state 1\n",
      "accuracy 0.8536585365853658 random_state 1\n",
      "accuracy 0.8048780487804879 random_state 1\n",
      "accuracy 0.8292682926829268 random_state 1\n",
      "accuracy 0.9390243902439024 random_state 1\n",
      "accuracy 0.8170731707317073 random_state 1\n",
      "accuracy 0.9024390243902439 random_state 1\n",
      "accuracy 0.8292682926829268 random_state 1\n",
      "accuracy 0.8780487804878049 random_state 1\n",
      "accuracy 0.7926829268292683 random_state 1\n",
      "accuracy 0.8902439024390244 random_state 1\n",
      "accuracy 0.8780487804878049 random_state 1\n",
      "accuracy 0.7926829268292683 random_state 1\n",
      "accuracy 0.8414634146341463 random_state 1\n",
      "accuracy 0.7560975609756098 random_state 1\n",
      "accuracy 0.8292682926829268 random_state 1\n",
      "accuracy 0.8292682926829268 random_state 1\n",
      "accuracy 0.8536585365853658 random_state 1\n",
      "accuracy 0.8780487804878049 random_state 1\n",
      "accuracy 0.8414634146341463 random_state 1\n",
      "accuracy 0.8414634146341463 random_state 1\n",
      "accuracy 0.8780487804878049 random_state 1\n",
      "accuracy 0.9146341463414634 random_state 1\n",
      "accuracy 0.8170731707317073 random_state 1\n",
      "accuracy 0.8292682926829268 random_state 1\n",
      "accuracy 0.8536585365853658 random_state 1\n",
      "accuracy 0.8414634146341463 random_state 1\n",
      "accuracy 0.8902439024390244 random_state 1\n",
      "accuracy 0.9024390243902439 random_state 1\n",
      "accuracy 0.8658536585365854 random_state 1\n",
      "accuracy 0.8780487804878049 random_state 1\n",
      "accuracy 0.9146341463414634 random_state 1\n",
      "accuracy 0.7926829268292683 random_state 1\n",
      "accuracy 0.7926829268292683 random_state 1\n",
      "accuracy 0.926829268292683 random_state 1\n",
      "accuracy 0.8780487804878049 random_state 1\n",
      "accuracy 0.7804878048780488 random_state 1\n",
      "accuracy 0.8780487804878049 random_state 1\n",
      "accuracy 0.9024390243902439 random_state 1\n",
      "accuracy 0.8292682926829268 random_state 1\n",
      "accuracy 0.8658536585365854 random_state 1\n",
      "accuracy 0.8536585365853658 random_state 1\n",
      "accuracy 0.8658536585365854 random_state 1\n",
      "accuracy 0.8414634146341463 random_state 1\n",
      "accuracy 0.8292682926829268 random_state 1\n",
      "accuracy 0.8536585365853658 random_state 1\n",
      "accuracy 0.8292682926829268 random_state 1\n",
      "accuracy 0.8658536585365854 random_state 1\n",
      "accuracy 0.8780487804878049 random_state 1\n",
      "accuracy 0.9512195121951219 random_state 1\n",
      "accuracy 0.9512195121951219 random_state 62\n",
      "accuracy 0.8414634146341463 random_state 1\n",
      "accuracy 0.8902439024390244 random_state 1\n",
      "accuracy 0.8658536585365854 random_state 1\n",
      "accuracy 0.8414634146341463 random_state 1\n",
      "accuracy 0.8658536585365854 random_state 1\n",
      "accuracy 0.8658536585365854 random_state 1\n",
      "accuracy 0.7804878048780488 random_state 1\n",
      "accuracy 0.8902439024390244 random_state 1\n",
      "accuracy 0.8780487804878049 random_state 1\n",
      "accuracy 0.8536585365853658 random_state 1\n",
      "accuracy 0.8658536585365854 random_state 1\n",
      "accuracy 0.8414634146341463 random_state 1\n",
      "accuracy 0.8780487804878049 random_state 1\n",
      "accuracy 0.8658536585365854 random_state 1\n",
      "accuracy 0.8536585365853658 random_state 1\n",
      "accuracy 0.8536585365853658 random_state 1\n",
      "accuracy 0.9024390243902439 random_state 1\n",
      "accuracy 0.926829268292683 random_state 1\n",
      "accuracy 0.8658536585365854 random_state 1\n",
      "accuracy 0.8780487804878049 random_state 1\n",
      "accuracy 0.8292682926829268 random_state 1\n",
      "accuracy 0.8658536585365854 random_state 1\n",
      "accuracy 0.8902439024390244 random_state 1\n",
      "accuracy 0.8658536585365854 random_state 1\n",
      "accuracy 0.8292682926829268 random_state 1\n",
      "accuracy 0.8902439024390244 random_state 1\n",
      "accuracy 0.8292682926829268 random_state 1\n",
      "accuracy 0.8536585365853658 random_state 1\n",
      "accuracy 0.8292682926829268 random_state 1\n",
      "accuracy 0.7439024390243902 random_state 1\n",
      "accuracy 0.8658536585365854 random_state 1\n",
      "accuracy 0.8292682926829268 random_state 1\n",
      "accuracy 0.9146341463414634 random_state 1\n",
      "accuracy 0.8902439024390244 random_state 1\n",
      "accuracy 0.8170731707317073 random_state 1\n",
      "accuracy 0.8048780487804879 random_state 1\n",
      "accuracy 0.8658536585365854 random_state 1\n",
      "accuracy 0.9390243902439024 random_state 1\n",
      "accuracy 0.7682926829268293 random_state 1\n",
      "accuracy 0.8780487804878049 random_state 1\n",
      "accuracy 0.8048780487804879 random_state 1\n",
      "accuracy 0.8170731707317073 random_state 1\n",
      "accuracy 0.8780487804878049 random_state 1\n",
      "accuracy 0.8902439024390244 random_state 1\n",
      "accuracy 0.7926829268292683 random_state 1\n",
      "accuracy 0.8780487804878049 random_state 1\n",
      "accuracy 0.8780487804878049 random_state 1\n",
      "accuracy 0.8902439024390244 random_state 1\n",
      "accuracy 0.8658536585365854 random_state 1\n",
      "accuracy 0.9024390243902439 random_state 1\n",
      "accuracy 0.8170731707317073 random_state 1\n",
      "accuracy 0.9024390243902439 random_state 1\n",
      "accuracy 0.8170731707317073 random_state 1\n",
      "accuracy 0.9146341463414634 random_state 1\n",
      "accuracy 0.8658536585365854 random_state 1\n",
      "accuracy 0.8658536585365854 random_state 1\n",
      "accuracy 0.8048780487804879 random_state 1\n",
      "accuracy 0.8536585365853658 random_state 1\n",
      "accuracy 0.8658536585365854 random_state 1\n",
      "accuracy 0.8048780487804879 random_state 1\n",
      "accuracy 0.9146341463414634 random_state 1\n",
      "accuracy 0.8902439024390244 random_state 1\n",
      "accuracy 0.8536585365853658 random_state 1\n",
      "accuracy 0.7682926829268293 random_state 1\n",
      "accuracy 0.8780487804878049 random_state 1\n",
      "accuracy 0.8780487804878049 random_state 1\n",
      "accuracy 0.8414634146341463 random_state 1\n",
      "accuracy 0.8170731707317073 random_state 1\n",
      "accuracy 0.8414634146341463 random_state 1\n",
      "accuracy 0.9024390243902439 random_state 1\n",
      "accuracy 0.9146341463414634 random_state 1\n",
      "accuracy 0.8414634146341463 random_state 1\n",
      "accuracy 0.8780487804878049 random_state 1\n",
      "accuracy 0.8536585365853658 random_state 1\n",
      "accuracy 0.8170731707317073 random_state 1\n",
      "accuracy 0.8292682926829268 random_state 1\n",
      "accuracy 0.8414634146341463 random_state 1\n",
      "accuracy 0.8536585365853658 random_state 1\n",
      "accuracy 0.9024390243902439 random_state 1\n",
      "accuracy 0.8780487804878049 random_state 1\n",
      "accuracy 0.8902439024390244 random_state 1\n",
      "accuracy 0.7804878048780488 random_state 1\n",
      "accuracy 0.8292682926829268 random_state 1\n",
      "accuracy 0.8902439024390244 random_state 1\n",
      "accuracy 0.7926829268292683 random_state 1\n",
      "accuracy 0.8780487804878049 random_state 1\n",
      "accuracy 0.7926829268292683 random_state 1\n",
      "accuracy 0.8170731707317073 random_state 1\n",
      "accuracy 0.8902439024390244 random_state 1\n",
      "accuracy 0.8536585365853658 random_state 1\n",
      "accuracy 0.8536585365853658 random_state 1\n",
      "accuracy 0.8170731707317073 random_state 1\n",
      "accuracy 0.8902439024390244 random_state 1\n",
      "accuracy 0.8170731707317073 random_state 1\n",
      "accuracy 0.8292682926829268 random_state 1\n",
      "accuracy 0.8780487804878049 random_state 1\n",
      "accuracy 0.8536585365853658 random_state 1\n",
      "accuracy 0.8902439024390244 random_state 1\n",
      "accuracy 0.8658536585365854 random_state 1\n",
      "accuracy 0.8414634146341463 random_state 1\n",
      "accuracy 0.9390243902439024 random_state 1\n",
      "accuracy 0.8780487804878049 random_state 1\n",
      "accuracy 0.8780487804878049 random_state 1\n",
      "accuracy 0.8170731707317073 random_state 1\n",
      "accuracy 0.8292682926829268 random_state 1\n",
      "accuracy 0.8048780487804879 random_state 1\n",
      "accuracy 0.8170731707317073 random_state 1\n",
      "accuracy 0.8414634146341463 random_state 1\n",
      "accuracy 0.8780487804878049 random_state 1\n",
      "accuracy 0.8048780487804879 random_state 1\n",
      "accuracy 0.8536585365853658 random_state 1\n",
      "accuracy 0.8414634146341463 random_state 1\n",
      "accuracy 0.926829268292683 random_state 1\n",
      "accuracy 0.8170731707317073 random_state 1\n",
      "accuracy 0.8536585365853658 random_state 1\n",
      "accuracy 0.8658536585365854 random_state 1\n",
      "accuracy 0.8048780487804879 random_state 1\n",
      "accuracy 0.7926829268292683 random_state 1\n",
      "accuracy 0.8048780487804879 random_state 1\n",
      "accuracy 0.8536585365853658 random_state 1\n",
      "accuracy 0.8536585365853658 random_state 1\n",
      "accuracy 0.8780487804878049 random_state 1\n",
      "accuracy 0.8292682926829268 random_state 1\n",
      "accuracy 0.8536585365853658 random_state 1\n",
      "accuracy 0.8780487804878049 random_state 1\n",
      "accuracy 0.8658536585365854 random_state 1\n",
      "accuracy 0.8780487804878049 random_state 1\n",
      "accuracy 0.8780487804878049 random_state 1\n",
      "accuracy 0.8048780487804879 random_state 1\n",
      "accuracy 0.8902439024390244 random_state 1\n",
      "accuracy 0.8902439024390244 random_state 1\n",
      "accuracy 0.8048780487804879 random_state 1\n",
      "accuracy 0.7804878048780488 random_state 1\n",
      "accuracy 0.8414634146341463 random_state 1\n",
      "accuracy 0.8536585365853658 random_state 1\n",
      "accuracy 0.8902439024390244 random_state 1\n",
      "accuracy 0.9024390243902439 random_state 1\n"
     ]
    }
   ],
   "source": [
    "#Finding the random state\n",
    "\n",
    "MaxAcc = 0\n",
    "MaxRS =0\n",
    "for i in range(1,200):\n",
    "    X_train,X_test,y_train,y_test=train_test_split(X,y,test_size=.10,random_state=i)\n",
    "    rf = RandomForestClassifier()\n",
    "    rf.fit(X_train,y_train)\n",
    "    predrf= rf.predict(X_test)\n",
    "    acc= accuracy_score(y_test,predrf)\n",
    "    print('accuracy',acc,'random_state',1)\n",
    "    \n",
    "    if acc>MaxAcc:\n",
    "        MaxAcc=acc\n",
    "        MaxRS= i\n",
    "        print('accuracy',MaxAcc,'random_state',i)"
   ]
  },
  {
   "cell_type": "code",
   "execution_count": 70,
   "id": "9fb95c84",
   "metadata": {},
   "outputs": [
    {
     "name": "stdout",
     "output_type": "stream",
     "text": [
      "Maximum accuracy 0.9512195121951219 Random state:  62\n"
     ]
    }
   ],
   "source": [
    "print('Maximum accuracy',MaxAcc,'Random state: ',MaxRS)"
   ]
  },
  {
   "cell_type": "code",
   "execution_count": 71,
   "id": "ddf34675",
   "metadata": {},
   "outputs": [],
   "source": [
    "X_train,X_test,y_train,y_test=train_test_split(X,y,test_size=.10,random_state=62)\n"
   ]
  },
  {
   "cell_type": "markdown",
   "id": "5ce21709",
   "metadata": {},
   "source": [
    "# Logistic Regression"
   ]
  },
  {
   "cell_type": "code",
   "execution_count": 72,
   "id": "14a975cb",
   "metadata": {},
   "outputs": [
    {
     "name": "stdout",
     "output_type": "stream",
     "text": [
      "Accuracy 74.39024390243902\n",
      "[[25 13]\n",
      " [ 8 36]]\n",
      "              precision    recall  f1-score   support\n",
      "\n",
      "           0       0.76      0.66      0.70        38\n",
      "           1       0.73      0.82      0.77        44\n",
      "\n",
      "    accuracy                           0.74        82\n",
      "   macro avg       0.75      0.74      0.74        82\n",
      "weighted avg       0.75      0.74      0.74        82\n",
      "\n"
     ]
    }
   ],
   "source": [
    "LR.fit(X_train,y_train)\n",
    "predlr = LR.predict(X_test)\n",
    "print('Accuracy',accuracy_score(y_test,predlr)*100)\n",
    "print(confusion_matrix(y_test,predlr))\n",
    "print(classification_report(y_test,predlr))"
   ]
  },
  {
   "cell_type": "markdown",
   "id": "6e32f887",
   "metadata": {},
   "source": [
    "# RandomForest Classifier"
   ]
  },
  {
   "cell_type": "code",
   "execution_count": 74,
   "id": "5a9b65c8",
   "metadata": {},
   "outputs": [
    {
     "name": "stdout",
     "output_type": "stream",
     "text": [
      "Accuracy 97.5609756097561\n",
      "[[37  1]\n",
      " [ 1 43]]\n",
      "              precision    recall  f1-score   support\n",
      "\n",
      "           0       0.97      0.97      0.97        38\n",
      "           1       0.98      0.98      0.98        44\n",
      "\n",
      "    accuracy                           0.98        82\n",
      "   macro avg       0.98      0.98      0.98        82\n",
      "weighted avg       0.98      0.98      0.98        82\n",
      "\n"
     ]
    }
   ],
   "source": [
    "rf.fit(X_train,y_train)\n",
    "predrf = rf.predict(X_test)\n",
    "print('Accuracy',accuracy_score(y_test,predrf)*100)\n",
    "print(confusion_matrix(y_test,predrf))\n",
    "print(classification_report(y_test,predrf))"
   ]
  },
  {
   "cell_type": "markdown",
   "id": "a2faba5e",
   "metadata": {},
   "source": [
    "# DescisionTree Classifier"
   ]
  },
  {
   "cell_type": "code",
   "execution_count": 75,
   "id": "e93553a0",
   "metadata": {},
   "outputs": [
    {
     "name": "stdout",
     "output_type": "stream",
     "text": [
      "Accuracy 86.58536585365853\n",
      "[[37  1]\n",
      " [10 34]]\n",
      "              precision    recall  f1-score   support\n",
      "\n",
      "           0       0.79      0.97      0.87        38\n",
      "           1       0.97      0.77      0.86        44\n",
      "\n",
      "    accuracy                           0.87        82\n",
      "   macro avg       0.88      0.87      0.87        82\n",
      "weighted avg       0.89      0.87      0.87        82\n",
      "\n"
     ]
    }
   ],
   "source": [
    "from sklearn.tree import DecisionTreeClassifier\n",
    "\n",
    "dt =DecisionTreeClassifier()\n",
    "dt.fit(X_train,y_train)\n",
    "preddt= dt.predict(X_test)\n",
    "print('Accuracy',accuracy_score(y_test,preddt)*100)\n",
    "print(confusion_matrix(y_test,preddt))\n",
    "print(classification_report(y_test,preddt))"
   ]
  },
  {
   "cell_type": "markdown",
   "id": "2a095cdc",
   "metadata": {},
   "source": [
    "# KNeighborsClassifier"
   ]
  },
  {
   "cell_type": "code",
   "execution_count": 76,
   "id": "e42f3525",
   "metadata": {},
   "outputs": [
    {
     "name": "stdout",
     "output_type": "stream",
     "text": [
      "Accuracy 80.48780487804879\n",
      "[[34  4]\n",
      " [12 32]]\n",
      "              precision    recall  f1-score   support\n",
      "\n",
      "           0       0.74      0.89      0.81        38\n",
      "           1       0.89      0.73      0.80        44\n",
      "\n",
      "    accuracy                           0.80        82\n",
      "   macro avg       0.81      0.81      0.80        82\n",
      "weighted avg       0.82      0.80      0.80        82\n",
      "\n"
     ]
    }
   ],
   "source": [
    "from sklearn.neighbors import KNeighborsClassifier\n",
    "\n",
    "knn = KNeighborsClassifier()\n",
    "knn.fit(X_train,y_train)\n",
    "predkn= knn.predict(X_test)\n",
    "print('Accuracy',accuracy_score(y_test,predkn)*100)\n",
    "print(confusion_matrix(y_test,predkn))\n",
    "print(classification_report(y_test,predkn))"
   ]
  },
  {
   "cell_type": "markdown",
   "id": "f159aa7e",
   "metadata": {},
   "source": [
    "# AdaBoost"
   ]
  },
  {
   "cell_type": "code",
   "execution_count": 77,
   "id": "514adae8",
   "metadata": {},
   "outputs": [
    {
     "name": "stdout",
     "output_type": "stream",
     "text": [
      "Accuracy 89.02439024390245\n",
      "[[33  5]\n",
      " [ 4 40]]\n",
      "              precision    recall  f1-score   support\n",
      "\n",
      "           0       0.89      0.87      0.88        38\n",
      "           1       0.89      0.91      0.90        44\n",
      "\n",
      "    accuracy                           0.89        82\n",
      "   macro avg       0.89      0.89      0.89        82\n",
      "weighted avg       0.89      0.89      0.89        82\n",
      "\n"
     ]
    }
   ],
   "source": [
    "from sklearn.ensemble import AdaBoostClassifier\n",
    "\n",
    "ada = AdaBoostClassifier()\n",
    "ada.fit(X_train,y_train)\n",
    "predada= ada.predict(X_test)\n",
    "print('Accuracy',accuracy_score(y_test,predada)*100)\n",
    "print(confusion_matrix(y_test,predada))\n",
    "print(classification_report(y_test,predada))"
   ]
  },
  {
   "cell_type": "markdown",
   "id": "05fe89f3",
   "metadata": {},
   "source": [
    "# GradientBoosting"
   ]
  },
  {
   "cell_type": "code",
   "execution_count": 79,
   "id": "325436e8",
   "metadata": {},
   "outputs": [
    {
     "name": "stdout",
     "output_type": "stream",
     "text": [
      "Accuracy 90.2439024390244\n",
      "[[33  5]\n",
      " [ 3 41]]\n",
      "              precision    recall  f1-score   support\n",
      "\n",
      "           0       0.92      0.87      0.89        38\n",
      "           1       0.89      0.93      0.91        44\n",
      "\n",
      "    accuracy                           0.90        82\n",
      "   macro avg       0.90      0.90      0.90        82\n",
      "weighted avg       0.90      0.90      0.90        82\n",
      "\n"
     ]
    }
   ],
   "source": [
    "from sklearn.ensemble import GradientBoostingClassifier\n",
    "\n",
    "gr = GradientBoostingClassifier()\n",
    "gr.fit(X_train,y_train)\n",
    "predgr= gr.predict(X_test)\n",
    "print('Accuracy',accuracy_score(y_test,predgr)*100)\n",
    "print(confusion_matrix(y_test,predgr))\n",
    "print(classification_report(y_test,predgr))"
   ]
  },
  {
   "cell_type": "markdown",
   "id": "b1eed14a",
   "metadata": {},
   "source": [
    "- Based on the accuracy calculated, RandomForestClassifier gave us the best accuracy 97.56"
   ]
  },
  {
   "cell_type": "markdown",
   "id": "26c0c88f",
   "metadata": {},
   "source": [
    "## Cross Validation"
   ]
  },
  {
   "cell_type": "code",
   "execution_count": 80,
   "id": "0be29365",
   "metadata": {},
   "outputs": [],
   "source": [
    "from sklearn.model_selection import cross_val_score"
   ]
  },
  {
   "cell_type": "code",
   "execution_count": 106,
   "id": "bdf30bac",
   "metadata": {},
   "outputs": [
    {
     "name": "stdout",
     "output_type": "stream",
     "text": [
      "Cross validation score of Logistic Regression 0.7015466015466015\n"
     ]
    }
   ],
   "source": [
    "a = cross_val_score(LR,X,y,cv=9)\n",
    "print('Cross validation score of Logistic Regression',a.mean())"
   ]
  },
  {
   "cell_type": "code",
   "execution_count": 107,
   "id": "9491afc9",
   "metadata": {},
   "outputs": [
    {
     "name": "stdout",
     "output_type": "stream",
     "text": [
      "Cross validation score of RandomForest Classifier 0.8665309998643332\n"
     ]
    }
   ],
   "source": [
    "b = cross_val_score(rf,X,y,cv=9)\n",
    "print('Cross validation score of RandomForest Classifier',b.mean())"
   ]
  },
  {
   "cell_type": "code",
   "execution_count": 108,
   "id": "406050dd",
   "metadata": {},
   "outputs": [
    {
     "name": "stdout",
     "output_type": "stream",
     "text": [
      "Cross validation score of DecisionTree Classifier 0.7816985483652151\n"
     ]
    }
   ],
   "source": [
    "c = cross_val_score(dt,X,y,cv=9)\n",
    "print('Cross validation score of DecisionTree Classifier',c.mean())"
   ]
  },
  {
   "cell_type": "code",
   "execution_count": 109,
   "id": "b7f1b1fd",
   "metadata": {},
   "outputs": [
    {
     "name": "stdout",
     "output_type": "stream",
     "text": [
      "Cross validation score of AdaBoost Classifier 0.7791480124813457\n"
     ]
    }
   ],
   "source": [
    "d= cross_val_score(ada,X,y,cv=9)\n",
    "print('Cross validation score of AdaBoost Classifier',d.mean())"
   ]
  },
  {
   "cell_type": "code",
   "execution_count": 110,
   "id": "44074328",
   "metadata": {},
   "outputs": [
    {
     "name": "stdout",
     "output_type": "stream",
     "text": [
      "Cross validation score of KNeighbour Classifier 0.7715778049111381\n"
     ]
    }
   ],
   "source": [
    "e= cross_val_score(knn,X,y,cv=9)\n",
    "print('Cross validation score of KNeighbour Classifier',e.mean())"
   ]
  },
  {
   "cell_type": "code",
   "execution_count": 111,
   "id": "41170526",
   "metadata": {},
   "outputs": [
    {
     "name": "stdout",
     "output_type": "stream",
     "text": [
      "Cross validation score of GradientBoosting Classifier 0.8136752136752138\n"
     ]
    }
   ],
   "source": [
    "f=cross_val_score(gr,X,y,cv=9)\n",
    "print('Cross validation score of GradientBoosting Classifier',f.mean())"
   ]
  },
  {
   "cell_type": "markdown",
   "id": "509e108f",
   "metadata": {},
   "source": [
    "- kNeighbour Clasifier has least difference between accuracy score and cross validation score. So we shall select that as our best model"
   ]
  },
  {
   "cell_type": "markdown",
   "id": "c5c01bf8",
   "metadata": {},
   "source": [
    "## Hyperparameter Tuning"
   ]
  },
  {
   "cell_type": "code",
   "execution_count": 112,
   "id": "c4958f19",
   "metadata": {},
   "outputs": [],
   "source": [
    "n_neighbors= [1,2,3,4,5,6]\n",
    "p= [1,2,3,4,5,6,7]\n",
    "algorithm=['auto', 'ball_tree', 'kd_tree', 'brute']\n",
    "leaf_size=[10,20,30,40,50,60]\n",
    "weights = ['uniform','distance']\n"
   ]
  },
  {
   "cell_type": "code",
   "execution_count": 114,
   "id": "f172dff0",
   "metadata": {},
   "outputs": [],
   "source": [
    "from sklearn.model_selection import GridSearchCV\n",
    "\n",
    "parameters = {'n_neighbors': n_neighbors,'p': p,'algorithm':algorithm,'leaf_size':leaf_size,'weights':weights}"
   ]
  },
  {
   "cell_type": "code",
   "execution_count": 115,
   "id": "6557b8f1",
   "metadata": {},
   "outputs": [
    {
     "data": {
      "text/plain": [
       "{'algorithm': 'auto',\n",
       " 'leaf_size': 10,\n",
       " 'n_neighbors': 4,\n",
       " 'p': 1,\n",
       " 'weights': 'distance'}"
      ]
     },
     "execution_count": 115,
     "metadata": {},
     "output_type": "execute_result"
    }
   ],
   "source": [
    "GCV=GridSearchCV(KNeighborsClassifier(),parameters,cv=9,scoring='accuracy')\n",
    "GCV.fit(X_train,y_train)\n",
    "GCV.best_params_"
   ]
  },
  {
   "cell_type": "code",
   "execution_count": 116,
   "id": "49cf6c86",
   "metadata": {},
   "outputs": [
    {
     "data": {
      "text/plain": [
       "sklearn.model_selection._search.GridSearchCV"
      ]
     },
     "execution_count": 116,
     "metadata": {},
     "output_type": "execute_result"
    }
   ],
   "source": [
    "type(GCV)"
   ]
  },
  {
   "cell_type": "code",
   "execution_count": 117,
   "id": "dbf9cf7b",
   "metadata": {},
   "outputs": [
    {
     "data": {
      "text/html": [
       "<style>#sk-container-id-1 {color: black;background-color: white;}#sk-container-id-1 pre{padding: 0;}#sk-container-id-1 div.sk-toggleable {background-color: white;}#sk-container-id-1 label.sk-toggleable__label {cursor: pointer;display: block;width: 100%;margin-bottom: 0;padding: 0.3em;box-sizing: border-box;text-align: center;}#sk-container-id-1 label.sk-toggleable__label-arrow:before {content: \"▸\";float: left;margin-right: 0.25em;color: #696969;}#sk-container-id-1 label.sk-toggleable__label-arrow:hover:before {color: black;}#sk-container-id-1 div.sk-estimator:hover label.sk-toggleable__label-arrow:before {color: black;}#sk-container-id-1 div.sk-toggleable__content {max-height: 0;max-width: 0;overflow: hidden;text-align: left;background-color: #f0f8ff;}#sk-container-id-1 div.sk-toggleable__content pre {margin: 0.2em;color: black;border-radius: 0.25em;background-color: #f0f8ff;}#sk-container-id-1 input.sk-toggleable__control:checked~div.sk-toggleable__content {max-height: 200px;max-width: 100%;overflow: auto;}#sk-container-id-1 input.sk-toggleable__control:checked~label.sk-toggleable__label-arrow:before {content: \"▾\";}#sk-container-id-1 div.sk-estimator input.sk-toggleable__control:checked~label.sk-toggleable__label {background-color: #d4ebff;}#sk-container-id-1 div.sk-label input.sk-toggleable__control:checked~label.sk-toggleable__label {background-color: #d4ebff;}#sk-container-id-1 input.sk-hidden--visually {border: 0;clip: rect(1px 1px 1px 1px);clip: rect(1px, 1px, 1px, 1px);height: 1px;margin: -1px;overflow: hidden;padding: 0;position: absolute;width: 1px;}#sk-container-id-1 div.sk-estimator {font-family: monospace;background-color: #f0f8ff;border: 1px dotted black;border-radius: 0.25em;box-sizing: border-box;margin-bottom: 0.5em;}#sk-container-id-1 div.sk-estimator:hover {background-color: #d4ebff;}#sk-container-id-1 div.sk-parallel-item::after {content: \"\";width: 100%;border-bottom: 1px solid gray;flex-grow: 1;}#sk-container-id-1 div.sk-label:hover label.sk-toggleable__label {background-color: #d4ebff;}#sk-container-id-1 div.sk-serial::before {content: \"\";position: absolute;border-left: 1px solid gray;box-sizing: border-box;top: 0;bottom: 0;left: 50%;z-index: 0;}#sk-container-id-1 div.sk-serial {display: flex;flex-direction: column;align-items: center;background-color: white;padding-right: 0.2em;padding-left: 0.2em;position: relative;}#sk-container-id-1 div.sk-item {position: relative;z-index: 1;}#sk-container-id-1 div.sk-parallel {display: flex;align-items: stretch;justify-content: center;background-color: white;position: relative;}#sk-container-id-1 div.sk-item::before, #sk-container-id-1 div.sk-parallel-item::before {content: \"\";position: absolute;border-left: 1px solid gray;box-sizing: border-box;top: 0;bottom: 0;left: 50%;z-index: -1;}#sk-container-id-1 div.sk-parallel-item {display: flex;flex-direction: column;z-index: 1;position: relative;background-color: white;}#sk-container-id-1 div.sk-parallel-item:first-child::after {align-self: flex-end;width: 50%;}#sk-container-id-1 div.sk-parallel-item:last-child::after {align-self: flex-start;width: 50%;}#sk-container-id-1 div.sk-parallel-item:only-child::after {width: 0;}#sk-container-id-1 div.sk-dashed-wrapped {border: 1px dashed gray;margin: 0 0.4em 0.5em 0.4em;box-sizing: border-box;padding-bottom: 0.4em;background-color: white;}#sk-container-id-1 div.sk-label label {font-family: monospace;font-weight: bold;display: inline-block;line-height: 1.2em;}#sk-container-id-1 div.sk-label-container {text-align: center;}#sk-container-id-1 div.sk-container {/* jupyter's `normalize.less` sets `[hidden] { display: none; }` but bootstrap.min.css set `[hidden] { display: none !important; }` so we also need the `!important` here to be able to override the default hidden behavior on the sphinx rendered scikit-learn.org. See: https://github.com/scikit-learn/scikit-learn/issues/21755 */display: inline-block !important;position: relative;}#sk-container-id-1 div.sk-text-repr-fallback {display: none;}</style><div id=\"sk-container-id-1\" class=\"sk-top-container\"><div class=\"sk-text-repr-fallback\"><pre>KNeighborsClassifier(leaf_size=10, n_neighbors=4, p=1, weights=&#x27;distance&#x27;)</pre><b>In a Jupyter environment, please rerun this cell to show the HTML representation or trust the notebook. <br />On GitHub, the HTML representation is unable to render, please try loading this page with nbviewer.org.</b></div><div class=\"sk-container\" hidden><div class=\"sk-item\"><div class=\"sk-estimator sk-toggleable\"><input class=\"sk-toggleable__control sk-hidden--visually\" id=\"sk-estimator-id-1\" type=\"checkbox\" checked><label for=\"sk-estimator-id-1\" class=\"sk-toggleable__label sk-toggleable__label-arrow\">KNeighborsClassifier</label><div class=\"sk-toggleable__content\"><pre>KNeighborsClassifier(leaf_size=10, n_neighbors=4, p=1, weights=&#x27;distance&#x27;)</pre></div></div></div></div></div>"
      ],
      "text/plain": [
       "KNeighborsClassifier(leaf_size=10, n_neighbors=4, p=1, weights='distance')"
      ]
     },
     "execution_count": 117,
     "metadata": {},
     "output_type": "execute_result"
    }
   ],
   "source": [
    "GCV.best_estimator_"
   ]
  },
  {
   "cell_type": "code",
   "execution_count": 120,
   "id": "57d09376",
   "metadata": {},
   "outputs": [
    {
     "name": "stdout",
     "output_type": "stream",
     "text": [
      "82.92682926829268\n"
     ]
    }
   ],
   "source": [
    "GCV_pred = GCV.best_estimator_.predict(X_test)\n",
    "acc=accuracy_score(y_test,GCV_pred)\n",
    "print(acc*100)"
   ]
  },
  {
   "cell_type": "markdown",
   "id": "48ff4af8",
   "metadata": {},
   "source": [
    "On Hyperparameter Tuning the model has improved from 77.15% to 82.92%"
   ]
  },
  {
   "cell_type": "markdown",
   "id": "da874ed7",
   "metadata": {},
   "source": [
    "## ROC CURVE"
   ]
  },
  {
   "cell_type": "code",
   "execution_count": 123,
   "id": "0a28de1a",
   "metadata": {},
   "outputs": [
    {
     "data": {
      "image/png": "[encoded data removed]",
      "text/plain": [
       "<Figure size 432x288 with 1 Axes>"
      ]
     },
     "metadata": {
      "needs_background": "light"
     },
     "output_type": "display_data"
    }
   ],
   "source": [
    "from sklearn.metrics import plot_roc_curve\n",
    "plot_roc_curve(GCV.best_estimator_,X_test,y_test)\n",
    "plt.title('ROC AUC plot')\n",
    "plt.show()"
   ]
  },
  {
   "cell_type": "markdown",
   "id": "d33c8a32",
   "metadata": {},
   "source": [
    "Our final accuracy score is 82.92% with AUC score as 95%"
   ]
  },
  {
   "cell_type": "markdown",
   "id": "a37e7da5",
   "metadata": {},
   "source": [
    "## Saving the model"
   ]
  },
  {
   "cell_type": "code",
   "execution_count": 125,
   "id": "0aeaaa2f",
   "metadata": {},
   "outputs": [
    {
     "data": {
      "text/plain": [
       "['Loan Application Status.pkl']"
      ]
     },
     "execution_count": 125,
     "metadata": {},
     "output_type": "execute_result"
    }
   ],
   "source": [
    "import joblib\n",
    "joblib.dump(GCV.best_estimator_,'Loan Application Status.pkl')"
   ]
  },
  {
   "cell_type": "code",
   "execution_count": null,
   "id": "6631871e",
   "metadata": {},
   "outputs": [],
   "source": []
  }
 ],
 "metadata": {
  "kernelspec": {
   "display_name": "Python 3 (ipykernel)",
   "language": "python",
   "name": "python3"
  },
  "language_info": {
   "codemirror_mode": {
    "name": "ipython",
    "version": 3
   },
   "file_extension": ".py",
   "mimetype": "text/x-python",
   "name": "python",
   "nbconvert_exporter": "python",
   "pygments_lexer": "ipython3",
   "version": "3.9.12"
  }
 },
 "nbformat": 4,
 "nbformat_minor": 5
}
